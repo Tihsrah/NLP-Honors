{
  "nbformat": 4,
  "nbformat_minor": 0,
  "metadata": {
    "colab": {
      "provenance": []
    },
    "kernelspec": {
      "name": "python3",
      "display_name": "Python 3"
    },
    "language_info": {
      "name": "python"
    },
    "accelerator": "GPU",
    "gpuClass": "standard"
  },
  "cells": [
    {
      "cell_type": "code",
      "execution_count": null,
      "metadata": {
        "id": "BlbgA3AENhpC"
      },
      "outputs": [],
      "source": [
        "import tensorflow as tf\n",
        "import pandas as pd\n",
        "import numpy as np"
      ]
    },
    {
      "cell_type": "code",
      "source": [
        "df=pd.read_csv('/content/chad.csv')\n",
        "df.head()"
      ],
      "metadata": {
        "colab": {
          "base_uri": "https://localhost:8080/",
          "height": 206
        },
        "id": "ppUIPgQ0NiaM",
        "outputId": "b5b09505-da53-4e33-c22e-824e2460b2f3"
      },
      "execution_count": null,
      "outputs": [
        {
          "output_type": "execute_result",
          "data": {
            "text/plain": [
              "                                             comment  \\\n",
              "0  Well I have good news and bad news.\\n\\nGood ne...   \n",
              "1                  We found him, but it was too late   \n",
              "2                                     We gotten boys   \n",
              "3                 Fucking finally, We found him boys   \n",
              "4  Our years of searching him is over, we can liv...   \n",
              "\n",
              "                                               reply  \n",
              "0                                             Dammit  \n",
              "1                                              Right  \n",
              "2                                             Gottem  \n",
              "3  Now when we have found him it's time for Waldo...  \n",
              "4                                            Finally  "
            ],
            "text/html": [
              "\n",
              "  <div id=\"df-f037a2d5-d2de-48f0-a6e0-aeca79c45765\">\n",
              "    <div class=\"colab-df-container\">\n",
              "      <div>\n",
              "<style scoped>\n",
              "    .dataframe tbody tr th:only-of-type {\n",
              "        vertical-align: middle;\n",
              "    }\n",
              "\n",
              "    .dataframe tbody tr th {\n",
              "        vertical-align: top;\n",
              "    }\n",
              "\n",
              "    .dataframe thead th {\n",
              "        text-align: right;\n",
              "    }\n",
              "</style>\n",
              "<table border=\"1\" class=\"dataframe\">\n",
              "  <thead>\n",
              "    <tr style=\"text-align: right;\">\n",
              "      <th></th>\n",
              "      <th>comment</th>\n",
              "      <th>reply</th>\n",
              "    </tr>\n",
              "  </thead>\n",
              "  <tbody>\n",
              "    <tr>\n",
              "      <th>0</th>\n",
              "      <td>Well I have good news and bad news.\\n\\nGood ne...</td>\n",
              "      <td>Dammit</td>\n",
              "    </tr>\n",
              "    <tr>\n",
              "      <th>1</th>\n",
              "      <td>We found him, but it was too late</td>\n",
              "      <td>Right</td>\n",
              "    </tr>\n",
              "    <tr>\n",
              "      <th>2</th>\n",
              "      <td>We gotten boys</td>\n",
              "      <td>Gottem</td>\n",
              "    </tr>\n",
              "    <tr>\n",
              "      <th>3</th>\n",
              "      <td>Fucking finally, We found him boys</td>\n",
              "      <td>Now when we have found him it's time for Waldo...</td>\n",
              "    </tr>\n",
              "    <tr>\n",
              "      <th>4</th>\n",
              "      <td>Our years of searching him is over, we can liv...</td>\n",
              "      <td>Finally</td>\n",
              "    </tr>\n",
              "  </tbody>\n",
              "</table>\n",
              "</div>\n",
              "      <button class=\"colab-df-convert\" onclick=\"convertToInteractive('df-f037a2d5-d2de-48f0-a6e0-aeca79c45765')\"\n",
              "              title=\"Convert this dataframe to an interactive table.\"\n",
              "              style=\"display:none;\">\n",
              "        \n",
              "  <svg xmlns=\"http://www.w3.org/2000/svg\" height=\"24px\"viewBox=\"0 0 24 24\"\n",
              "       width=\"24px\">\n",
              "    <path d=\"M0 0h24v24H0V0z\" fill=\"none\"/>\n",
              "    <path d=\"M18.56 5.44l.94 2.06.94-2.06 2.06-.94-2.06-.94-.94-2.06-.94 2.06-2.06.94zm-11 1L8.5 8.5l.94-2.06 2.06-.94-2.06-.94L8.5 2.5l-.94 2.06-2.06.94zm10 10l.94 2.06.94-2.06 2.06-.94-2.06-.94-.94-2.06-.94 2.06-2.06.94z\"/><path d=\"M17.41 7.96l-1.37-1.37c-.4-.4-.92-.59-1.43-.59-.52 0-1.04.2-1.43.59L10.3 9.45l-7.72 7.72c-.78.78-.78 2.05 0 2.83L4 21.41c.39.39.9.59 1.41.59.51 0 1.02-.2 1.41-.59l7.78-7.78 2.81-2.81c.8-.78.8-2.07 0-2.86zM5.41 20L4 18.59l7.72-7.72 1.47 1.35L5.41 20z\"/>\n",
              "  </svg>\n",
              "      </button>\n",
              "      \n",
              "  <style>\n",
              "    .colab-df-container {\n",
              "      display:flex;\n",
              "      flex-wrap:wrap;\n",
              "      gap: 12px;\n",
              "    }\n",
              "\n",
              "    .colab-df-convert {\n",
              "      background-color: #E8F0FE;\n",
              "      border: none;\n",
              "      border-radius: 50%;\n",
              "      cursor: pointer;\n",
              "      display: none;\n",
              "      fill: #1967D2;\n",
              "      height: 32px;\n",
              "      padding: 0 0 0 0;\n",
              "      width: 32px;\n",
              "    }\n",
              "\n",
              "    .colab-df-convert:hover {\n",
              "      background-color: #E2EBFA;\n",
              "      box-shadow: 0px 1px 2px rgba(60, 64, 67, 0.3), 0px 1px 3px 1px rgba(60, 64, 67, 0.15);\n",
              "      fill: #174EA6;\n",
              "    }\n",
              "\n",
              "    [theme=dark] .colab-df-convert {\n",
              "      background-color: #3B4455;\n",
              "      fill: #D2E3FC;\n",
              "    }\n",
              "\n",
              "    [theme=dark] .colab-df-convert:hover {\n",
              "      background-color: #434B5C;\n",
              "      box-shadow: 0px 1px 3px 1px rgba(0, 0, 0, 0.15);\n",
              "      filter: drop-shadow(0px 1px 2px rgba(0, 0, 0, 0.3));\n",
              "      fill: #FFFFFF;\n",
              "    }\n",
              "  </style>\n",
              "\n",
              "      <script>\n",
              "        const buttonEl =\n",
              "          document.querySelector('#df-f037a2d5-d2de-48f0-a6e0-aeca79c45765 button.colab-df-convert');\n",
              "        buttonEl.style.display =\n",
              "          google.colab.kernel.accessAllowed ? 'block' : 'none';\n",
              "\n",
              "        async function convertToInteractive(key) {\n",
              "          const element = document.querySelector('#df-f037a2d5-d2de-48f0-a6e0-aeca79c45765');\n",
              "          const dataTable =\n",
              "            await google.colab.kernel.invokeFunction('convertToInteractive',\n",
              "                                                     [key], {});\n",
              "          if (!dataTable) return;\n",
              "\n",
              "          const docLinkHtml = 'Like what you see? Visit the ' +\n",
              "            '<a target=\"_blank\" href=https://colab.research.google.com/notebooks/data_table.ipynb>data table notebook</a>'\n",
              "            + ' to learn more about interactive tables.';\n",
              "          element.innerHTML = '';\n",
              "          dataTable['output_type'] = 'display_data';\n",
              "          await google.colab.output.renderOutput(dataTable, element);\n",
              "          const docLink = document.createElement('div');\n",
              "          docLink.innerHTML = docLinkHtml;\n",
              "          element.appendChild(docLink);\n",
              "        }\n",
              "      </script>\n",
              "    </div>\n",
              "  </div>\n",
              "  "
            ]
          },
          "metadata": {},
          "execution_count": 43
        }
      ]
    },
    {
      "cell_type": "code",
      "source": [
        "df.describe()"
      ],
      "metadata": {
        "colab": {
          "base_uri": "https://localhost:8080/",
          "height": 175
        },
        "id": "AWT-ergHOJFP",
        "outputId": "25fc1d5a-1e65-49e4-9a0f-1d92462c6cfd"
      },
      "execution_count": null,
      "outputs": [
        {
          "output_type": "execute_result",
          "data": {
            "text/plain": [
              "          comment reply\n",
              "count        2614  2614\n",
              "unique       2501  2522\n",
              "top     [deleted]   Lol\n",
              "freq           30    19"
            ],
            "text/html": [
              "\n",
              "  <div id=\"df-ce145810-414f-4dc9-8325-a36bd20e06a5\">\n",
              "    <div class=\"colab-df-container\">\n",
              "      <div>\n",
              "<style scoped>\n",
              "    .dataframe tbody tr th:only-of-type {\n",
              "        vertical-align: middle;\n",
              "    }\n",
              "\n",
              "    .dataframe tbody tr th {\n",
              "        vertical-align: top;\n",
              "    }\n",
              "\n",
              "    .dataframe thead th {\n",
              "        text-align: right;\n",
              "    }\n",
              "</style>\n",
              "<table border=\"1\" class=\"dataframe\">\n",
              "  <thead>\n",
              "    <tr style=\"text-align: right;\">\n",
              "      <th></th>\n",
              "      <th>comment</th>\n",
              "      <th>reply</th>\n",
              "    </tr>\n",
              "  </thead>\n",
              "  <tbody>\n",
              "    <tr>\n",
              "      <th>count</th>\n",
              "      <td>2614</td>\n",
              "      <td>2614</td>\n",
              "    </tr>\n",
              "    <tr>\n",
              "      <th>unique</th>\n",
              "      <td>2501</td>\n",
              "      <td>2522</td>\n",
              "    </tr>\n",
              "    <tr>\n",
              "      <th>top</th>\n",
              "      <td>[deleted]</td>\n",
              "      <td>Lol</td>\n",
              "    </tr>\n",
              "    <tr>\n",
              "      <th>freq</th>\n",
              "      <td>30</td>\n",
              "      <td>19</td>\n",
              "    </tr>\n",
              "  </tbody>\n",
              "</table>\n",
              "</div>\n",
              "      <button class=\"colab-df-convert\" onclick=\"convertToInteractive('df-ce145810-414f-4dc9-8325-a36bd20e06a5')\"\n",
              "              title=\"Convert this dataframe to an interactive table.\"\n",
              "              style=\"display:none;\">\n",
              "        \n",
              "  <svg xmlns=\"http://www.w3.org/2000/svg\" height=\"24px\"viewBox=\"0 0 24 24\"\n",
              "       width=\"24px\">\n",
              "    <path d=\"M0 0h24v24H0V0z\" fill=\"none\"/>\n",
              "    <path d=\"M18.56 5.44l.94 2.06.94-2.06 2.06-.94-2.06-.94-.94-2.06-.94 2.06-2.06.94zm-11 1L8.5 8.5l.94-2.06 2.06-.94-2.06-.94L8.5 2.5l-.94 2.06-2.06.94zm10 10l.94 2.06.94-2.06 2.06-.94-2.06-.94-.94-2.06-.94 2.06-2.06.94z\"/><path d=\"M17.41 7.96l-1.37-1.37c-.4-.4-.92-.59-1.43-.59-.52 0-1.04.2-1.43.59L10.3 9.45l-7.72 7.72c-.78.78-.78 2.05 0 2.83L4 21.41c.39.39.9.59 1.41.59.51 0 1.02-.2 1.41-.59l7.78-7.78 2.81-2.81c.8-.78.8-2.07 0-2.86zM5.41 20L4 18.59l7.72-7.72 1.47 1.35L5.41 20z\"/>\n",
              "  </svg>\n",
              "      </button>\n",
              "      \n",
              "  <style>\n",
              "    .colab-df-container {\n",
              "      display:flex;\n",
              "      flex-wrap:wrap;\n",
              "      gap: 12px;\n",
              "    }\n",
              "\n",
              "    .colab-df-convert {\n",
              "      background-color: #E8F0FE;\n",
              "      border: none;\n",
              "      border-radius: 50%;\n",
              "      cursor: pointer;\n",
              "      display: none;\n",
              "      fill: #1967D2;\n",
              "      height: 32px;\n",
              "      padding: 0 0 0 0;\n",
              "      width: 32px;\n",
              "    }\n",
              "\n",
              "    .colab-df-convert:hover {\n",
              "      background-color: #E2EBFA;\n",
              "      box-shadow: 0px 1px 2px rgba(60, 64, 67, 0.3), 0px 1px 3px 1px rgba(60, 64, 67, 0.15);\n",
              "      fill: #174EA6;\n",
              "    }\n",
              "\n",
              "    [theme=dark] .colab-df-convert {\n",
              "      background-color: #3B4455;\n",
              "      fill: #D2E3FC;\n",
              "    }\n",
              "\n",
              "    [theme=dark] .colab-df-convert:hover {\n",
              "      background-color: #434B5C;\n",
              "      box-shadow: 0px 1px 3px 1px rgba(0, 0, 0, 0.15);\n",
              "      filter: drop-shadow(0px 1px 2px rgba(0, 0, 0, 0.3));\n",
              "      fill: #FFFFFF;\n",
              "    }\n",
              "  </style>\n",
              "\n",
              "      <script>\n",
              "        const buttonEl =\n",
              "          document.querySelector('#df-ce145810-414f-4dc9-8325-a36bd20e06a5 button.colab-df-convert');\n",
              "        buttonEl.style.display =\n",
              "          google.colab.kernel.accessAllowed ? 'block' : 'none';\n",
              "\n",
              "        async function convertToInteractive(key) {\n",
              "          const element = document.querySelector('#df-ce145810-414f-4dc9-8325-a36bd20e06a5');\n",
              "          const dataTable =\n",
              "            await google.colab.kernel.invokeFunction('convertToInteractive',\n",
              "                                                     [key], {});\n",
              "          if (!dataTable) return;\n",
              "\n",
              "          const docLinkHtml = 'Like what you see? Visit the ' +\n",
              "            '<a target=\"_blank\" href=https://colab.research.google.com/notebooks/data_table.ipynb>data table notebook</a>'\n",
              "            + ' to learn more about interactive tables.';\n",
              "          element.innerHTML = '';\n",
              "          dataTable['output_type'] = 'display_data';\n",
              "          await google.colab.output.renderOutput(dataTable, element);\n",
              "          const docLink = document.createElement('div');\n",
              "          docLink.innerHTML = docLinkHtml;\n",
              "          element.appendChild(docLink);\n",
              "        }\n",
              "      </script>\n",
              "    </div>\n",
              "  </div>\n",
              "  "
            ]
          },
          "metadata": {},
          "execution_count": 44
        }
      ]
    },
    {
      "cell_type": "code",
      "source": [
        "df=df[df['comment']!='[deleted]']\n",
        "df.describe()"
      ],
      "metadata": {
        "colab": {
          "base_uri": "https://localhost:8080/",
          "height": 175
        },
        "id": "lC-K18ZkOMKN",
        "outputId": "42c6c972-5f70-4115-db0f-a7cdb56a74c1"
      },
      "execution_count": null,
      "outputs": [
        {
          "output_type": "execute_result",
          "data": {
            "text/plain": [
              "       comment reply\n",
              "count     2584  2584\n",
              "unique    2500  2493\n",
              "top        Lol   Lol\n",
              "freq        21    18"
            ],
            "text/html": [
              "\n",
              "  <div id=\"df-1b398847-4619-403e-87ba-d56646f68e9f\">\n",
              "    <div class=\"colab-df-container\">\n",
              "      <div>\n",
              "<style scoped>\n",
              "    .dataframe tbody tr th:only-of-type {\n",
              "        vertical-align: middle;\n",
              "    }\n",
              "\n",
              "    .dataframe tbody tr th {\n",
              "        vertical-align: top;\n",
              "    }\n",
              "\n",
              "    .dataframe thead th {\n",
              "        text-align: right;\n",
              "    }\n",
              "</style>\n",
              "<table border=\"1\" class=\"dataframe\">\n",
              "  <thead>\n",
              "    <tr style=\"text-align: right;\">\n",
              "      <th></th>\n",
              "      <th>comment</th>\n",
              "      <th>reply</th>\n",
              "    </tr>\n",
              "  </thead>\n",
              "  <tbody>\n",
              "    <tr>\n",
              "      <th>count</th>\n",
              "      <td>2584</td>\n",
              "      <td>2584</td>\n",
              "    </tr>\n",
              "    <tr>\n",
              "      <th>unique</th>\n",
              "      <td>2500</td>\n",
              "      <td>2493</td>\n",
              "    </tr>\n",
              "    <tr>\n",
              "      <th>top</th>\n",
              "      <td>Lol</td>\n",
              "      <td>Lol</td>\n",
              "    </tr>\n",
              "    <tr>\n",
              "      <th>freq</th>\n",
              "      <td>21</td>\n",
              "      <td>18</td>\n",
              "    </tr>\n",
              "  </tbody>\n",
              "</table>\n",
              "</div>\n",
              "      <button class=\"colab-df-convert\" onclick=\"convertToInteractive('df-1b398847-4619-403e-87ba-d56646f68e9f')\"\n",
              "              title=\"Convert this dataframe to an interactive table.\"\n",
              "              style=\"display:none;\">\n",
              "        \n",
              "  <svg xmlns=\"http://www.w3.org/2000/svg\" height=\"24px\"viewBox=\"0 0 24 24\"\n",
              "       width=\"24px\">\n",
              "    <path d=\"M0 0h24v24H0V0z\" fill=\"none\"/>\n",
              "    <path d=\"M18.56 5.44l.94 2.06.94-2.06 2.06-.94-2.06-.94-.94-2.06-.94 2.06-2.06.94zm-11 1L8.5 8.5l.94-2.06 2.06-.94-2.06-.94L8.5 2.5l-.94 2.06-2.06.94zm10 10l.94 2.06.94-2.06 2.06-.94-2.06-.94-.94-2.06-.94 2.06-2.06.94z\"/><path d=\"M17.41 7.96l-1.37-1.37c-.4-.4-.92-.59-1.43-.59-.52 0-1.04.2-1.43.59L10.3 9.45l-7.72 7.72c-.78.78-.78 2.05 0 2.83L4 21.41c.39.39.9.59 1.41.59.51 0 1.02-.2 1.41-.59l7.78-7.78 2.81-2.81c.8-.78.8-2.07 0-2.86zM5.41 20L4 18.59l7.72-7.72 1.47 1.35L5.41 20z\"/>\n",
              "  </svg>\n",
              "      </button>\n",
              "      \n",
              "  <style>\n",
              "    .colab-df-container {\n",
              "      display:flex;\n",
              "      flex-wrap:wrap;\n",
              "      gap: 12px;\n",
              "    }\n",
              "\n",
              "    .colab-df-convert {\n",
              "      background-color: #E8F0FE;\n",
              "      border: none;\n",
              "      border-radius: 50%;\n",
              "      cursor: pointer;\n",
              "      display: none;\n",
              "      fill: #1967D2;\n",
              "      height: 32px;\n",
              "      padding: 0 0 0 0;\n",
              "      width: 32px;\n",
              "    }\n",
              "\n",
              "    .colab-df-convert:hover {\n",
              "      background-color: #E2EBFA;\n",
              "      box-shadow: 0px 1px 2px rgba(60, 64, 67, 0.3), 0px 1px 3px 1px rgba(60, 64, 67, 0.15);\n",
              "      fill: #174EA6;\n",
              "    }\n",
              "\n",
              "    [theme=dark] .colab-df-convert {\n",
              "      background-color: #3B4455;\n",
              "      fill: #D2E3FC;\n",
              "    }\n",
              "\n",
              "    [theme=dark] .colab-df-convert:hover {\n",
              "      background-color: #434B5C;\n",
              "      box-shadow: 0px 1px 3px 1px rgba(0, 0, 0, 0.15);\n",
              "      filter: drop-shadow(0px 1px 2px rgba(0, 0, 0, 0.3));\n",
              "      fill: #FFFFFF;\n",
              "    }\n",
              "  </style>\n",
              "\n",
              "      <script>\n",
              "        const buttonEl =\n",
              "          document.querySelector('#df-1b398847-4619-403e-87ba-d56646f68e9f button.colab-df-convert');\n",
              "        buttonEl.style.display =\n",
              "          google.colab.kernel.accessAllowed ? 'block' : 'none';\n",
              "\n",
              "        async function convertToInteractive(key) {\n",
              "          const element = document.querySelector('#df-1b398847-4619-403e-87ba-d56646f68e9f');\n",
              "          const dataTable =\n",
              "            await google.colab.kernel.invokeFunction('convertToInteractive',\n",
              "                                                     [key], {});\n",
              "          if (!dataTable) return;\n",
              "\n",
              "          const docLinkHtml = 'Like what you see? Visit the ' +\n",
              "            '<a target=\"_blank\" href=https://colab.research.google.com/notebooks/data_table.ipynb>data table notebook</a>'\n",
              "            + ' to learn more about interactive tables.';\n",
              "          element.innerHTML = '';\n",
              "          dataTable['output_type'] = 'display_data';\n",
              "          await google.colab.output.renderOutput(dataTable, element);\n",
              "          const docLink = document.createElement('div');\n",
              "          docLink.innerHTML = docLinkHtml;\n",
              "          element.appendChild(docLink);\n",
              "        }\n",
              "      </script>\n",
              "    </div>\n",
              "  </div>\n",
              "  "
            ]
          },
          "metadata": {},
          "execution_count": 45
        }
      ]
    },
    {
      "cell_type": "code",
      "source": [
        "df"
      ],
      "metadata": {
        "colab": {
          "base_uri": "https://localhost:8080/",
          "height": 423
        },
        "id": "pjw3kfuoRLSF",
        "outputId": "4c7bd37d-7128-4631-9140-9e49b9b1d989"
      },
      "execution_count": null,
      "outputs": [
        {
          "output_type": "execute_result",
          "data": {
            "text/plain": [
              "                                                comment  \\\n",
              "0     Well I have good news and bad news.\\n\\nGood ne...   \n",
              "1                     We found him, but it was too late   \n",
              "2                                        We gotten boys   \n",
              "3                    Fucking finally, We found him boys   \n",
              "4     Our years of searching him is over, we can liv...   \n",
              "...                                                 ...   \n",
              "2609                                     And the other!   \n",
              "2610                     The one right next to that one   \n",
              "2611             How to kill a random redditor please ?   \n",
              "2612  The second one is a uni-corn, as a fellow corn...   \n",
              "2613  Where's \"Ukraine bombs injured, unarmed, lone ...   \n",
              "\n",
              "                                                  reply  \n",
              "0                                                Dammit  \n",
              "1                                                 Right  \n",
              "2                                                Gottem  \n",
              "3     Now when we have found him it's time for Waldo...  \n",
              "4                                               Finally  \n",
              "...                                                 ...  \n",
              "2609                     The one right next to that one  \n",
              "2610                            That thing over there ^  \n",
              "2611       I think that’s illegal but I’d have to check  \n",
              "2612                                       Good to know  \n",
              "2613        r/combatfootage has what you're looking for  \n",
              "\n",
              "[2584 rows x 2 columns]"
            ],
            "text/html": [
              "\n",
              "  <div id=\"df-bedd0602-335a-424a-ab46-2e87abfdaf58\">\n",
              "    <div class=\"colab-df-container\">\n",
              "      <div>\n",
              "<style scoped>\n",
              "    .dataframe tbody tr th:only-of-type {\n",
              "        vertical-align: middle;\n",
              "    }\n",
              "\n",
              "    .dataframe tbody tr th {\n",
              "        vertical-align: top;\n",
              "    }\n",
              "\n",
              "    .dataframe thead th {\n",
              "        text-align: right;\n",
              "    }\n",
              "</style>\n",
              "<table border=\"1\" class=\"dataframe\">\n",
              "  <thead>\n",
              "    <tr style=\"text-align: right;\">\n",
              "      <th></th>\n",
              "      <th>comment</th>\n",
              "      <th>reply</th>\n",
              "    </tr>\n",
              "  </thead>\n",
              "  <tbody>\n",
              "    <tr>\n",
              "      <th>0</th>\n",
              "      <td>Well I have good news and bad news.\\n\\nGood ne...</td>\n",
              "      <td>Dammit</td>\n",
              "    </tr>\n",
              "    <tr>\n",
              "      <th>1</th>\n",
              "      <td>We found him, but it was too late</td>\n",
              "      <td>Right</td>\n",
              "    </tr>\n",
              "    <tr>\n",
              "      <th>2</th>\n",
              "      <td>We gotten boys</td>\n",
              "      <td>Gottem</td>\n",
              "    </tr>\n",
              "    <tr>\n",
              "      <th>3</th>\n",
              "      <td>Fucking finally, We found him boys</td>\n",
              "      <td>Now when we have found him it's time for Waldo...</td>\n",
              "    </tr>\n",
              "    <tr>\n",
              "      <th>4</th>\n",
              "      <td>Our years of searching him is over, we can liv...</td>\n",
              "      <td>Finally</td>\n",
              "    </tr>\n",
              "    <tr>\n",
              "      <th>...</th>\n",
              "      <td>...</td>\n",
              "      <td>...</td>\n",
              "    </tr>\n",
              "    <tr>\n",
              "      <th>2609</th>\n",
              "      <td>And the other!</td>\n",
              "      <td>The one right next to that one</td>\n",
              "    </tr>\n",
              "    <tr>\n",
              "      <th>2610</th>\n",
              "      <td>The one right next to that one</td>\n",
              "      <td>That thing over there ^</td>\n",
              "    </tr>\n",
              "    <tr>\n",
              "      <th>2611</th>\n",
              "      <td>How to kill a random redditor please ?</td>\n",
              "      <td>I think that’s illegal but I’d have to check</td>\n",
              "    </tr>\n",
              "    <tr>\n",
              "      <th>2612</th>\n",
              "      <td>The second one is a uni-corn, as a fellow corn...</td>\n",
              "      <td>Good to know</td>\n",
              "    </tr>\n",
              "    <tr>\n",
              "      <th>2613</th>\n",
              "      <td>Where's \"Ukraine bombs injured, unarmed, lone ...</td>\n",
              "      <td>r/combatfootage has what you're looking for</td>\n",
              "    </tr>\n",
              "  </tbody>\n",
              "</table>\n",
              "<p>2584 rows × 2 columns</p>\n",
              "</div>\n",
              "      <button class=\"colab-df-convert\" onclick=\"convertToInteractive('df-bedd0602-335a-424a-ab46-2e87abfdaf58')\"\n",
              "              title=\"Convert this dataframe to an interactive table.\"\n",
              "              style=\"display:none;\">\n",
              "        \n",
              "  <svg xmlns=\"http://www.w3.org/2000/svg\" height=\"24px\"viewBox=\"0 0 24 24\"\n",
              "       width=\"24px\">\n",
              "    <path d=\"M0 0h24v24H0V0z\" fill=\"none\"/>\n",
              "    <path d=\"M18.56 5.44l.94 2.06.94-2.06 2.06-.94-2.06-.94-.94-2.06-.94 2.06-2.06.94zm-11 1L8.5 8.5l.94-2.06 2.06-.94-2.06-.94L8.5 2.5l-.94 2.06-2.06.94zm10 10l.94 2.06.94-2.06 2.06-.94-2.06-.94-.94-2.06-.94 2.06-2.06.94z\"/><path d=\"M17.41 7.96l-1.37-1.37c-.4-.4-.92-.59-1.43-.59-.52 0-1.04.2-1.43.59L10.3 9.45l-7.72 7.72c-.78.78-.78 2.05 0 2.83L4 21.41c.39.39.9.59 1.41.59.51 0 1.02-.2 1.41-.59l7.78-7.78 2.81-2.81c.8-.78.8-2.07 0-2.86zM5.41 20L4 18.59l7.72-7.72 1.47 1.35L5.41 20z\"/>\n",
              "  </svg>\n",
              "      </button>\n",
              "      \n",
              "  <style>\n",
              "    .colab-df-container {\n",
              "      display:flex;\n",
              "      flex-wrap:wrap;\n",
              "      gap: 12px;\n",
              "    }\n",
              "\n",
              "    .colab-df-convert {\n",
              "      background-color: #E8F0FE;\n",
              "      border: none;\n",
              "      border-radius: 50%;\n",
              "      cursor: pointer;\n",
              "      display: none;\n",
              "      fill: #1967D2;\n",
              "      height: 32px;\n",
              "      padding: 0 0 0 0;\n",
              "      width: 32px;\n",
              "    }\n",
              "\n",
              "    .colab-df-convert:hover {\n",
              "      background-color: #E2EBFA;\n",
              "      box-shadow: 0px 1px 2px rgba(60, 64, 67, 0.3), 0px 1px 3px 1px rgba(60, 64, 67, 0.15);\n",
              "      fill: #174EA6;\n",
              "    }\n",
              "\n",
              "    [theme=dark] .colab-df-convert {\n",
              "      background-color: #3B4455;\n",
              "      fill: #D2E3FC;\n",
              "    }\n",
              "\n",
              "    [theme=dark] .colab-df-convert:hover {\n",
              "      background-color: #434B5C;\n",
              "      box-shadow: 0px 1px 3px 1px rgba(0, 0, 0, 0.15);\n",
              "      filter: drop-shadow(0px 1px 2px rgba(0, 0, 0, 0.3));\n",
              "      fill: #FFFFFF;\n",
              "    }\n",
              "  </style>\n",
              "\n",
              "      <script>\n",
              "        const buttonEl =\n",
              "          document.querySelector('#df-bedd0602-335a-424a-ab46-2e87abfdaf58 button.colab-df-convert');\n",
              "        buttonEl.style.display =\n",
              "          google.colab.kernel.accessAllowed ? 'block' : 'none';\n",
              "\n",
              "        async function convertToInteractive(key) {\n",
              "          const element = document.querySelector('#df-bedd0602-335a-424a-ab46-2e87abfdaf58');\n",
              "          const dataTable =\n",
              "            await google.colab.kernel.invokeFunction('convertToInteractive',\n",
              "                                                     [key], {});\n",
              "          if (!dataTable) return;\n",
              "\n",
              "          const docLinkHtml = 'Like what you see? Visit the ' +\n",
              "            '<a target=\"_blank\" href=https://colab.research.google.com/notebooks/data_table.ipynb>data table notebook</a>'\n",
              "            + ' to learn more about interactive tables.';\n",
              "          element.innerHTML = '';\n",
              "          dataTable['output_type'] = 'display_data';\n",
              "          await google.colab.output.renderOutput(dataTable, element);\n",
              "          const docLink = document.createElement('div');\n",
              "          docLink.innerHTML = docLinkHtml;\n",
              "          element.appendChild(docLink);\n",
              "        }\n",
              "      </script>\n",
              "    </div>\n",
              "  </div>\n",
              "  "
            ]
          },
          "metadata": {},
          "execution_count": 46
        }
      ]
    },
    {
      "cell_type": "code",
      "source": [
        "import re\n",
        "from bs4 import BeautifulSoup\n",
        "\n",
        "def clean_tweet(tweet):\n",
        "    # Remove @mentions\n",
        "    text = re.sub(r'@[A-Za-z0-9\\']+', '', tweet)\n",
        "    # Remove HTML tags\n",
        "    text = BeautifulSoup(text, 'lxml').get_text()\n",
        "    # Remove URLs\n",
        "    text = re.sub(r'https?://[A-Za-z0-9. ]+(/[A-Za-z0-9]+)*', '', text)\n",
        "    # Remove non-alphabetic characters\n",
        "    text = re.sub(\"[^a-zA-Z]\", \" \", text)\n",
        "    # Remove 'RT' (retweet) tag\n",
        "    text = re.sub(r'\\bRT\\b', '', text)\n",
        "    # Replace 'nan' with a space\n",
        "    text = re.sub(r'\\bnan\\b', ' ', text)\n",
        "    # Replace newlines with spaces\n",
        "    text = text.replace('\\n', ' ')\n",
        "    # Remove extra whitespace\n",
        "    text = re.sub(r'\\s+', ' ', text).strip()\n",
        "    return text\n",
        "df['comment']=df['comment'].apply(clean_tweet)\n",
        "df['reply']=df['reply'].apply(clean_tweet)"
      ],
      "metadata": {
        "colab": {
          "base_uri": "https://localhost:8080/"
        },
        "id": "zyXhxTddQ_u_",
        "outputId": "cd8d5b9d-98e0-477e-b43b-68342141b223"
      },
      "execution_count": null,
      "outputs": [
        {
          "output_type": "stream",
          "name": "stderr",
          "text": [
            "<ipython-input-47-772adf23fcdf>:8: MarkupResemblesLocatorWarning: The input looks more like a filename than markup. You may want to open this file and pass the filehandle into Beautiful Soup.\n",
            "  text = BeautifulSoup(text, 'lxml').get_text()\n",
            "<ipython-input-47-772adf23fcdf>:8: MarkupResemblesLocatorWarning: The input looks more like a URL than markup. You may want to use an HTTP client like requests to get the document behind the URL, and feed that document to Beautiful Soup.\n",
            "  text = BeautifulSoup(text, 'lxml').get_text()\n"
          ]
        }
      ]
    },
    {
      "cell_type": "code",
      "source": [
        "df"
      ],
      "metadata": {
        "colab": {
          "base_uri": "https://localhost:8080/",
          "height": 423
        },
        "id": "6AQz2vNoShip",
        "outputId": "97b51737-2d78-474a-cc58-7c5ec05a4fac"
      },
      "execution_count": null,
      "outputs": [
        {
          "output_type": "execute_result",
          "data": {
            "text/plain": [
              "                                                comment  \\\n",
              "0     Well I have good news and bad news Good news W...   \n",
              "1                      We found him but it was too late   \n",
              "2                                        We gotten boys   \n",
              "3                     Fucking finally We found him boys   \n",
              "4     Our years of searching him is over we can live...   \n",
              "...                                                 ...   \n",
              "2609                                      And the other   \n",
              "2610                     The one right next to that one   \n",
              "2611               How to kill a random redditor please   \n",
              "2612  The second one is a uni corn as a fellow corn ...   \n",
              "2613  Where s Ukraine bombs injured unarmed lone sol...   \n",
              "\n",
              "                                                  reply  \n",
              "0                                                Dammit  \n",
              "1                                                 Right  \n",
              "2                                                Gottem  \n",
              "3     Now when we have found him it s time for Waldo...  \n",
              "4                                               Finally  \n",
              "...                                                 ...  \n",
              "2609                     The one right next to that one  \n",
              "2610                              That thing over there  \n",
              "2611       I think that s illegal but I d have to check  \n",
              "2612                                       Good to know  \n",
              "2613        r combatfootage has what you re looking for  \n",
              "\n",
              "[2584 rows x 2 columns]"
            ],
            "text/html": [
              "\n",
              "  <div id=\"df-b0adfa6e-fe5d-4e9b-9076-20df287ad450\">\n",
              "    <div class=\"colab-df-container\">\n",
              "      <div>\n",
              "<style scoped>\n",
              "    .dataframe tbody tr th:only-of-type {\n",
              "        vertical-align: middle;\n",
              "    }\n",
              "\n",
              "    .dataframe tbody tr th {\n",
              "        vertical-align: top;\n",
              "    }\n",
              "\n",
              "    .dataframe thead th {\n",
              "        text-align: right;\n",
              "    }\n",
              "</style>\n",
              "<table border=\"1\" class=\"dataframe\">\n",
              "  <thead>\n",
              "    <tr style=\"text-align: right;\">\n",
              "      <th></th>\n",
              "      <th>comment</th>\n",
              "      <th>reply</th>\n",
              "    </tr>\n",
              "  </thead>\n",
              "  <tbody>\n",
              "    <tr>\n",
              "      <th>0</th>\n",
              "      <td>Well I have good news and bad news Good news W...</td>\n",
              "      <td>Dammit</td>\n",
              "    </tr>\n",
              "    <tr>\n",
              "      <th>1</th>\n",
              "      <td>We found him but it was too late</td>\n",
              "      <td>Right</td>\n",
              "    </tr>\n",
              "    <tr>\n",
              "      <th>2</th>\n",
              "      <td>We gotten boys</td>\n",
              "      <td>Gottem</td>\n",
              "    </tr>\n",
              "    <tr>\n",
              "      <th>3</th>\n",
              "      <td>Fucking finally We found him boys</td>\n",
              "      <td>Now when we have found him it s time for Waldo...</td>\n",
              "    </tr>\n",
              "    <tr>\n",
              "      <th>4</th>\n",
              "      <td>Our years of searching him is over we can live...</td>\n",
              "      <td>Finally</td>\n",
              "    </tr>\n",
              "    <tr>\n",
              "      <th>...</th>\n",
              "      <td>...</td>\n",
              "      <td>...</td>\n",
              "    </tr>\n",
              "    <tr>\n",
              "      <th>2609</th>\n",
              "      <td>And the other</td>\n",
              "      <td>The one right next to that one</td>\n",
              "    </tr>\n",
              "    <tr>\n",
              "      <th>2610</th>\n",
              "      <td>The one right next to that one</td>\n",
              "      <td>That thing over there</td>\n",
              "    </tr>\n",
              "    <tr>\n",
              "      <th>2611</th>\n",
              "      <td>How to kill a random redditor please</td>\n",
              "      <td>I think that s illegal but I d have to check</td>\n",
              "    </tr>\n",
              "    <tr>\n",
              "      <th>2612</th>\n",
              "      <td>The second one is a uni corn as a fellow corn ...</td>\n",
              "      <td>Good to know</td>\n",
              "    </tr>\n",
              "    <tr>\n",
              "      <th>2613</th>\n",
              "      <td>Where s Ukraine bombs injured unarmed lone sol...</td>\n",
              "      <td>r combatfootage has what you re looking for</td>\n",
              "    </tr>\n",
              "  </tbody>\n",
              "</table>\n",
              "<p>2584 rows × 2 columns</p>\n",
              "</div>\n",
              "      <button class=\"colab-df-convert\" onclick=\"convertToInteractive('df-b0adfa6e-fe5d-4e9b-9076-20df287ad450')\"\n",
              "              title=\"Convert this dataframe to an interactive table.\"\n",
              "              style=\"display:none;\">\n",
              "        \n",
              "  <svg xmlns=\"http://www.w3.org/2000/svg\" height=\"24px\"viewBox=\"0 0 24 24\"\n",
              "       width=\"24px\">\n",
              "    <path d=\"M0 0h24v24H0V0z\" fill=\"none\"/>\n",
              "    <path d=\"M18.56 5.44l.94 2.06.94-2.06 2.06-.94-2.06-.94-.94-2.06-.94 2.06-2.06.94zm-11 1L8.5 8.5l.94-2.06 2.06-.94-2.06-.94L8.5 2.5l-.94 2.06-2.06.94zm10 10l.94 2.06.94-2.06 2.06-.94-2.06-.94-.94-2.06-.94 2.06-2.06.94z\"/><path d=\"M17.41 7.96l-1.37-1.37c-.4-.4-.92-.59-1.43-.59-.52 0-1.04.2-1.43.59L10.3 9.45l-7.72 7.72c-.78.78-.78 2.05 0 2.83L4 21.41c.39.39.9.59 1.41.59.51 0 1.02-.2 1.41-.59l7.78-7.78 2.81-2.81c.8-.78.8-2.07 0-2.86zM5.41 20L4 18.59l7.72-7.72 1.47 1.35L5.41 20z\"/>\n",
              "  </svg>\n",
              "      </button>\n",
              "      \n",
              "  <style>\n",
              "    .colab-df-container {\n",
              "      display:flex;\n",
              "      flex-wrap:wrap;\n",
              "      gap: 12px;\n",
              "    }\n",
              "\n",
              "    .colab-df-convert {\n",
              "      background-color: #E8F0FE;\n",
              "      border: none;\n",
              "      border-radius: 50%;\n",
              "      cursor: pointer;\n",
              "      display: none;\n",
              "      fill: #1967D2;\n",
              "      height: 32px;\n",
              "      padding: 0 0 0 0;\n",
              "      width: 32px;\n",
              "    }\n",
              "\n",
              "    .colab-df-convert:hover {\n",
              "      background-color: #E2EBFA;\n",
              "      box-shadow: 0px 1px 2px rgba(60, 64, 67, 0.3), 0px 1px 3px 1px rgba(60, 64, 67, 0.15);\n",
              "      fill: #174EA6;\n",
              "    }\n",
              "\n",
              "    [theme=dark] .colab-df-convert {\n",
              "      background-color: #3B4455;\n",
              "      fill: #D2E3FC;\n",
              "    }\n",
              "\n",
              "    [theme=dark] .colab-df-convert:hover {\n",
              "      background-color: #434B5C;\n",
              "      box-shadow: 0px 1px 3px 1px rgba(0, 0, 0, 0.15);\n",
              "      filter: drop-shadow(0px 1px 2px rgba(0, 0, 0, 0.3));\n",
              "      fill: #FFFFFF;\n",
              "    }\n",
              "  </style>\n",
              "\n",
              "      <script>\n",
              "        const buttonEl =\n",
              "          document.querySelector('#df-b0adfa6e-fe5d-4e9b-9076-20df287ad450 button.colab-df-convert');\n",
              "        buttonEl.style.display =\n",
              "          google.colab.kernel.accessAllowed ? 'block' : 'none';\n",
              "\n",
              "        async function convertToInteractive(key) {\n",
              "          const element = document.querySelector('#df-b0adfa6e-fe5d-4e9b-9076-20df287ad450');\n",
              "          const dataTable =\n",
              "            await google.colab.kernel.invokeFunction('convertToInteractive',\n",
              "                                                     [key], {});\n",
              "          if (!dataTable) return;\n",
              "\n",
              "          const docLinkHtml = 'Like what you see? Visit the ' +\n",
              "            '<a target=\"_blank\" href=https://colab.research.google.com/notebooks/data_table.ipynb>data table notebook</a>'\n",
              "            + ' to learn more about interactive tables.';\n",
              "          element.innerHTML = '';\n",
              "          dataTable['output_type'] = 'display_data';\n",
              "          await google.colab.output.renderOutput(dataTable, element);\n",
              "          const docLink = document.createElement('div');\n",
              "          docLink.innerHTML = docLinkHtml;\n",
              "          element.appendChild(docLink);\n",
              "        }\n",
              "      </script>\n",
              "    </div>\n",
              "  </div>\n",
              "  "
            ]
          },
          "metadata": {},
          "execution_count": 48
        }
      ]
    },
    {
      "cell_type": "code",
      "source": [
        "clean_tweet(df.iloc[0,0])"
      ],
      "metadata": {
        "colab": {
          "base_uri": "https://localhost:8080/",
          "height": 36
        },
        "id": "louoaJb1R1u9",
        "outputId": "12218228-5221-42b1-ca1e-bd2dcde43fd8"
      },
      "execution_count": null,
      "outputs": [
        {
          "output_type": "execute_result",
          "data": {
            "text/plain": [
              "'Well I have good news and bad news Good news Waldo is dead Bad news that is just one out of million of his clones'"
            ],
            "application/vnd.google.colaboratory.intrinsic+json": {
              "type": "string"
            }
          },
          "metadata": {},
          "execution_count": 49
        }
      ]
    },
    {
      "cell_type": "code",
      "source": [
        "data=pd.DataFrame()\n",
        "data.head()"
      ],
      "metadata": {
        "colab": {
          "base_uri": "https://localhost:8080/",
          "height": 49
        },
        "id": "rVGwCr0QNt3k",
        "outputId": "3d5e1129-ebdc-4f04-f69a-fe945a1087d0"
      },
      "execution_count": null,
      "outputs": [
        {
          "output_type": "execute_result",
          "data": {
            "text/plain": [
              "Empty DataFrame\n",
              "Columns: []\n",
              "Index: []"
            ],
            "text/html": [
              "\n",
              "  <div id=\"df-cbf997cc-32eb-4788-b313-d591aed65e95\">\n",
              "    <div class=\"colab-df-container\">\n",
              "      <div>\n",
              "<style scoped>\n",
              "    .dataframe tbody tr th:only-of-type {\n",
              "        vertical-align: middle;\n",
              "    }\n",
              "\n",
              "    .dataframe tbody tr th {\n",
              "        vertical-align: top;\n",
              "    }\n",
              "\n",
              "    .dataframe thead th {\n",
              "        text-align: right;\n",
              "    }\n",
              "</style>\n",
              "<table border=\"1\" class=\"dataframe\">\n",
              "  <thead>\n",
              "    <tr style=\"text-align: right;\">\n",
              "      <th></th>\n",
              "    </tr>\n",
              "  </thead>\n",
              "  <tbody>\n",
              "  </tbody>\n",
              "</table>\n",
              "</div>\n",
              "      <button class=\"colab-df-convert\" onclick=\"convertToInteractive('df-cbf997cc-32eb-4788-b313-d591aed65e95')\"\n",
              "              title=\"Convert this dataframe to an interactive table.\"\n",
              "              style=\"display:none;\">\n",
              "        \n",
              "  <svg xmlns=\"http://www.w3.org/2000/svg\" height=\"24px\"viewBox=\"0 0 24 24\"\n",
              "       width=\"24px\">\n",
              "    <path d=\"M0 0h24v24H0V0z\" fill=\"none\"/>\n",
              "    <path d=\"M18.56 5.44l.94 2.06.94-2.06 2.06-.94-2.06-.94-.94-2.06-.94 2.06-2.06.94zm-11 1L8.5 8.5l.94-2.06 2.06-.94-2.06-.94L8.5 2.5l-.94 2.06-2.06.94zm10 10l.94 2.06.94-2.06 2.06-.94-2.06-.94-.94-2.06-.94 2.06-2.06.94z\"/><path d=\"M17.41 7.96l-1.37-1.37c-.4-.4-.92-.59-1.43-.59-.52 0-1.04.2-1.43.59L10.3 9.45l-7.72 7.72c-.78.78-.78 2.05 0 2.83L4 21.41c.39.39.9.59 1.41.59.51 0 1.02-.2 1.41-.59l7.78-7.78 2.81-2.81c.8-.78.8-2.07 0-2.86zM5.41 20L4 18.59l7.72-7.72 1.47 1.35L5.41 20z\"/>\n",
              "  </svg>\n",
              "      </button>\n",
              "      \n",
              "  <style>\n",
              "    .colab-df-container {\n",
              "      display:flex;\n",
              "      flex-wrap:wrap;\n",
              "      gap: 12px;\n",
              "    }\n",
              "\n",
              "    .colab-df-convert {\n",
              "      background-color: #E8F0FE;\n",
              "      border: none;\n",
              "      border-radius: 50%;\n",
              "      cursor: pointer;\n",
              "      display: none;\n",
              "      fill: #1967D2;\n",
              "      height: 32px;\n",
              "      padding: 0 0 0 0;\n",
              "      width: 32px;\n",
              "    }\n",
              "\n",
              "    .colab-df-convert:hover {\n",
              "      background-color: #E2EBFA;\n",
              "      box-shadow: 0px 1px 2px rgba(60, 64, 67, 0.3), 0px 1px 3px 1px rgba(60, 64, 67, 0.15);\n",
              "      fill: #174EA6;\n",
              "    }\n",
              "\n",
              "    [theme=dark] .colab-df-convert {\n",
              "      background-color: #3B4455;\n",
              "      fill: #D2E3FC;\n",
              "    }\n",
              "\n",
              "    [theme=dark] .colab-df-convert:hover {\n",
              "      background-color: #434B5C;\n",
              "      box-shadow: 0px 1px 3px 1px rgba(0, 0, 0, 0.15);\n",
              "      filter: drop-shadow(0px 1px 2px rgba(0, 0, 0, 0.3));\n",
              "      fill: #FFFFFF;\n",
              "    }\n",
              "  </style>\n",
              "\n",
              "      <script>\n",
              "        const buttonEl =\n",
              "          document.querySelector('#df-cbf997cc-32eb-4788-b313-d591aed65e95 button.colab-df-convert');\n",
              "        buttonEl.style.display =\n",
              "          google.colab.kernel.accessAllowed ? 'block' : 'none';\n",
              "\n",
              "        async function convertToInteractive(key) {\n",
              "          const element = document.querySelector('#df-cbf997cc-32eb-4788-b313-d591aed65e95');\n",
              "          const dataTable =\n",
              "            await google.colab.kernel.invokeFunction('convertToInteractive',\n",
              "                                                     [key], {});\n",
              "          if (!dataTable) return;\n",
              "\n",
              "          const docLinkHtml = 'Like what you see? Visit the ' +\n",
              "            '<a target=\"_blank\" href=https://colab.research.google.com/notebooks/data_table.ipynb>data table notebook</a>'\n",
              "            + ' to learn more about interactive tables.';\n",
              "          element.innerHTML = '';\n",
              "          dataTable['output_type'] = 'display_data';\n",
              "          await google.colab.output.renderOutput(dataTable, element);\n",
              "          const docLink = document.createElement('div');\n",
              "          docLink.innerHTML = docLinkHtml;\n",
              "          element.appendChild(docLink);\n",
              "        }\n",
              "      </script>\n",
              "    </div>\n",
              "  </div>\n",
              "  "
            ]
          },
          "metadata": {},
          "execution_count": 50
        }
      ]
    },
    {
      "cell_type": "code",
      "source": [
        "data['data'] = df['comment'] + ' -> ' + df['reply']\n",
        "data.head()"
      ],
      "metadata": {
        "colab": {
          "base_uri": "https://localhost:8080/",
          "height": 206
        },
        "id": "mMP-k-gPNzHg",
        "outputId": "dbb0af62-c0f9-45c9-be59-d67549d66172"
      },
      "execution_count": null,
      "outputs": [
        {
          "output_type": "execute_result",
          "data": {
            "text/plain": [
              "                                                data\n",
              "0  Well I have good news and bad news Good news W...\n",
              "1          We found him but it was too late -> Right\n",
              "2                           We gotten boys -> Gottem\n",
              "3  Fucking finally We found him boys -> Now when ...\n",
              "4  Our years of searching him is over we can live..."
            ],
            "text/html": [
              "\n",
              "  <div id=\"df-64f69784-8587-472b-a043-fa322007020a\">\n",
              "    <div class=\"colab-df-container\">\n",
              "      <div>\n",
              "<style scoped>\n",
              "    .dataframe tbody tr th:only-of-type {\n",
              "        vertical-align: middle;\n",
              "    }\n",
              "\n",
              "    .dataframe tbody tr th {\n",
              "        vertical-align: top;\n",
              "    }\n",
              "\n",
              "    .dataframe thead th {\n",
              "        text-align: right;\n",
              "    }\n",
              "</style>\n",
              "<table border=\"1\" class=\"dataframe\">\n",
              "  <thead>\n",
              "    <tr style=\"text-align: right;\">\n",
              "      <th></th>\n",
              "      <th>data</th>\n",
              "    </tr>\n",
              "  </thead>\n",
              "  <tbody>\n",
              "    <tr>\n",
              "      <th>0</th>\n",
              "      <td>Well I have good news and bad news Good news W...</td>\n",
              "    </tr>\n",
              "    <tr>\n",
              "      <th>1</th>\n",
              "      <td>We found him but it was too late -&gt; Right</td>\n",
              "    </tr>\n",
              "    <tr>\n",
              "      <th>2</th>\n",
              "      <td>We gotten boys -&gt; Gottem</td>\n",
              "    </tr>\n",
              "    <tr>\n",
              "      <th>3</th>\n",
              "      <td>Fucking finally We found him boys -&gt; Now when ...</td>\n",
              "    </tr>\n",
              "    <tr>\n",
              "      <th>4</th>\n",
              "      <td>Our years of searching him is over we can live...</td>\n",
              "    </tr>\n",
              "  </tbody>\n",
              "</table>\n",
              "</div>\n",
              "      <button class=\"colab-df-convert\" onclick=\"convertToInteractive('df-64f69784-8587-472b-a043-fa322007020a')\"\n",
              "              title=\"Convert this dataframe to an interactive table.\"\n",
              "              style=\"display:none;\">\n",
              "        \n",
              "  <svg xmlns=\"http://www.w3.org/2000/svg\" height=\"24px\"viewBox=\"0 0 24 24\"\n",
              "       width=\"24px\">\n",
              "    <path d=\"M0 0h24v24H0V0z\" fill=\"none\"/>\n",
              "    <path d=\"M18.56 5.44l.94 2.06.94-2.06 2.06-.94-2.06-.94-.94-2.06-.94 2.06-2.06.94zm-11 1L8.5 8.5l.94-2.06 2.06-.94-2.06-.94L8.5 2.5l-.94 2.06-2.06.94zm10 10l.94 2.06.94-2.06 2.06-.94-2.06-.94-.94-2.06-.94 2.06-2.06.94z\"/><path d=\"M17.41 7.96l-1.37-1.37c-.4-.4-.92-.59-1.43-.59-.52 0-1.04.2-1.43.59L10.3 9.45l-7.72 7.72c-.78.78-.78 2.05 0 2.83L4 21.41c.39.39.9.59 1.41.59.51 0 1.02-.2 1.41-.59l7.78-7.78 2.81-2.81c.8-.78.8-2.07 0-2.86zM5.41 20L4 18.59l7.72-7.72 1.47 1.35L5.41 20z\"/>\n",
              "  </svg>\n",
              "      </button>\n",
              "      \n",
              "  <style>\n",
              "    .colab-df-container {\n",
              "      display:flex;\n",
              "      flex-wrap:wrap;\n",
              "      gap: 12px;\n",
              "    }\n",
              "\n",
              "    .colab-df-convert {\n",
              "      background-color: #E8F0FE;\n",
              "      border: none;\n",
              "      border-radius: 50%;\n",
              "      cursor: pointer;\n",
              "      display: none;\n",
              "      fill: #1967D2;\n",
              "      height: 32px;\n",
              "      padding: 0 0 0 0;\n",
              "      width: 32px;\n",
              "    }\n",
              "\n",
              "    .colab-df-convert:hover {\n",
              "      background-color: #E2EBFA;\n",
              "      box-shadow: 0px 1px 2px rgba(60, 64, 67, 0.3), 0px 1px 3px 1px rgba(60, 64, 67, 0.15);\n",
              "      fill: #174EA6;\n",
              "    }\n",
              "\n",
              "    [theme=dark] .colab-df-convert {\n",
              "      background-color: #3B4455;\n",
              "      fill: #D2E3FC;\n",
              "    }\n",
              "\n",
              "    [theme=dark] .colab-df-convert:hover {\n",
              "      background-color: #434B5C;\n",
              "      box-shadow: 0px 1px 3px 1px rgba(0, 0, 0, 0.15);\n",
              "      filter: drop-shadow(0px 1px 2px rgba(0, 0, 0, 0.3));\n",
              "      fill: #FFFFFF;\n",
              "    }\n",
              "  </style>\n",
              "\n",
              "      <script>\n",
              "        const buttonEl =\n",
              "          document.querySelector('#df-64f69784-8587-472b-a043-fa322007020a button.colab-df-convert');\n",
              "        buttonEl.style.display =\n",
              "          google.colab.kernel.accessAllowed ? 'block' : 'none';\n",
              "\n",
              "        async function convertToInteractive(key) {\n",
              "          const element = document.querySelector('#df-64f69784-8587-472b-a043-fa322007020a');\n",
              "          const dataTable =\n",
              "            await google.colab.kernel.invokeFunction('convertToInteractive',\n",
              "                                                     [key], {});\n",
              "          if (!dataTable) return;\n",
              "\n",
              "          const docLinkHtml = 'Like what you see? Visit the ' +\n",
              "            '<a target=\"_blank\" href=https://colab.research.google.com/notebooks/data_table.ipynb>data table notebook</a>'\n",
              "            + ' to learn more about interactive tables.';\n",
              "          element.innerHTML = '';\n",
              "          dataTable['output_type'] = 'display_data';\n",
              "          await google.colab.output.renderOutput(dataTable, element);\n",
              "          const docLink = document.createElement('div');\n",
              "          docLink.innerHTML = docLinkHtml;\n",
              "          element.appendChild(docLink);\n",
              "        }\n",
              "      </script>\n",
              "    </div>\n",
              "  </div>\n",
              "  "
            ]
          },
          "metadata": {},
          "execution_count": 51
        }
      ]
    },
    {
      "cell_type": "code",
      "source": [
        "data.to_csv('data.csv',index=False)"
      ],
      "metadata": {
        "id": "jQGcd7UWOGis"
      },
      "execution_count": null,
      "outputs": []
    },
    {
      "cell_type": "code",
      "source": [
        "def clean_text(text):\n",
        "  text = re.sub(r',', '', text)\n",
        "  text = re.sub(r'\\'', '',  text)\n",
        "  text = re.sub(r'\\\"', '', text)\n",
        "  text = re.sub(r'\\(', '', text)\n",
        "  text = re.sub(r'\\)', '', text)\n",
        "  text = re.sub(r'\\n', '', text)\n",
        "  text = re.sub(r'“', '', text)\n",
        "  text = re.sub(r'”', '', text)\n",
        "  text = re.sub(r'’', '', text)\n",
        "  text = re.sub(r'\\.', '', text)\n",
        "  text = re.sub(r';', '', text)\n",
        "  text = re.sub(r':', '', text)\n",
        "  text = re.sub(r'\\-', '', text)\n",
        "\n",
        "  return text"
      ],
      "metadata": {
        "id": "0RcYcIs3Ok1R"
      },
      "execution_count": null,
      "outputs": []
    },
    {
      "cell_type": "code",
      "source": [
        "import tensorflow as tf\n",
        "import pandas as pd\n",
        "import numpy as np"
      ],
      "metadata": {
        "id": "8ocKR_kLv0RQ"
      },
      "execution_count": null,
      "outputs": []
    },
    {
      "cell_type": "code",
      "source": [
        "with open('/content/datac.txt') as story:\n",
        "  story_data = story.read()"
      ],
      "metadata": {
        "id": "TIcdR8iAPQb1"
      },
      "execution_count": null,
      "outputs": []
    },
    {
      "cell_type": "code",
      "source": [
        "# print(story_data)"
      ],
      "metadata": {
        "id": "kimH5YbpP2Av"
      },
      "execution_count": null,
      "outputs": []
    },
    {
      "cell_type": "code",
      "source": [
        "lower_data = story_data.lower()           # Converting the string to lower case to get uniformity\n",
        "\n",
        "split_data = lower_data.splitlines()      # Splitting the data to get every line seperately but this will give the list of uncleaned data\n",
        "\n",
        "# print(split_data) "
      ],
      "metadata": {
        "id": "w3nFrIukP3gU"
      },
      "execution_count": null,
      "outputs": []
    },
    {
      "cell_type": "code",
      "source": [
        "split_data.pop(0)\n"
      ],
      "metadata": {
        "colab": {
          "base_uri": "https://localhost:8080/",
          "height": 36
        },
        "id": "myYPLmsfW6vl",
        "outputId": "c7093468-d59c-4806-ed1a-e2c9c3e9c25e"
      },
      "execution_count": null,
      "outputs": [
        {
          "output_type": "execute_result",
          "data": {
            "text/plain": [
              "'data'"
            ],
            "application/vnd.google.colaboratory.intrinsic+json": {
              "type": "string"
            }
          },
          "metadata": {},
          "execution_count": 5
        }
      ]
    },
    {
      "cell_type": "code",
      "source": [
        "# split_data"
      ],
      "metadata": {
        "id": "oCUzXvFuXGky"
      },
      "execution_count": null,
      "outputs": []
    },
    {
      "cell_type": "code",
      "source": [
        "final = ''                                # initiating a argument with blank string to hold the values of final cleaned data\n",
        "\n",
        "for line in split_data:\n",
        "  final += '\\n' + line\n",
        "\n",
        "# print(final)"
      ],
      "metadata": {
        "id": "HRUzfWDaXa_o"
      },
      "execution_count": null,
      "outputs": []
    },
    {
      "cell_type": "code",
      "source": [
        "final_data = final.split('\\n')       # splitting again to get list of cleaned and splitted data ready to be processed\n",
        "# print(final_data)"
      ],
      "metadata": {
        "id": "ygSDuiW7XjMi"
      },
      "execution_count": null,
      "outputs": []
    },
    {
      "cell_type": "code",
      "source": [
        "final_data = [x for x in final_data if x != '']\n",
        "# print(final_data)"
      ],
      "metadata": {
        "id": "yyhhQKLPXn3m"
      },
      "execution_count": null,
      "outputs": []
    },
    {
      "cell_type": "code",
      "source": [
        "from tensorflow.keras.preprocessing.text import Tokenizer\n",
        "from tensorflow.keras.preprocessing.sequence import pad_sequences"
      ],
      "metadata": {
        "id": "J77ItwmfX5Nk"
      },
      "execution_count": null,
      "outputs": []
    },
    {
      "cell_type": "code",
      "source": [
        "# Instantiating the Tokenizer\n",
        "max_vocab = 1000000\n",
        "tokenizer = Tokenizer(num_words=max_vocab)\n",
        "tokenizer.fit_on_texts(final_data)"
      ],
      "metadata": {
        "id": "6Ru2NzkyYDf9"
      },
      "execution_count": null,
      "outputs": []
    },
    {
      "cell_type": "code",
      "source": [
        "# Getting the total number of words of the data.\n",
        "word2idx = tokenizer.word_index\n",
        "print(len(word2idx))\n",
        "print(word2idx)\n",
        "vocab_size = len(word2idx) + 1        # Adding 1 to the vocab_size because the index starts from 1 not 0. This will make it uniform when using it further\n",
        "# print(vocab_size)"
      ],
      "metadata": {
        "colab": {
          "base_uri": "https://localhost:8080/"
        },
        "id": "M33tIRG_YFPl",
        "outputId": "14b39d01-abb1-4139-a189-21920574520d"
      },
      "execution_count": null,
      "outputs": [
        {
          "output_type": "stream",
          "name": "stdout",
          "text": [
            "1720\n",
            "{'the': 1, 'to': 2, 'a': 3, 'and': 4, 'it': 5, 'that': 6, 'of': 7, 'i': 8, 'is': 9, 'you': 10, 't': 11, 'they': 12, 's': 13, 'was': 14, 'japan': 15, 'in': 16, 'for': 17, 'but': 18, 'not': 19, 'this': 20, 'on': 21, 'have': 22, 'us': 23, 'like': 24, 'be': 25, 'would': 26, 'them': 27, 'what': 28, 'just': 29, 'we': 30, 'as': 31, 'no': 32, 'are': 33, 'with': 34, 'if': 35, 'about': 36, 'all': 37, 'so': 38, 'or': 39, 'their': 40, 'at': 41, 'were': 42, 'your': 43, 'did': 44, 'because': 45, 'can': 46, 'he': 47, 'japanese': 48, 'war': 49, 'had': 50, 'know': 51, 'how': 52, 'nuclear': 53, 'one': 54, 'when': 55, 'do': 56, 're': 57, 'my': 58, 'nukes': 59, 'from': 60, 'surrender': 61, 'don': 62, 'also': 63, 'civilians': 64, 'some': 65, 'm': 66, 'bombs': 67, 'bombing': 68, 'other': 69, 'make': 70, 'people': 71, 've': 72, 'now': 73, 'time': 74, 'point': 75, 'by': 76, 'more': 77, 'who': 78, 'there': 79, 'see': 80, 'an': 81, 'up': 82, 'america': 83, 'out': 84, 'his': 85, 'over': 86, 'think': 87, 'only': 88, 'will': 89, 'should': 90, 'say': 91, 'then': 92, 'dropped': 93, 'still': 94, 'trying': 95, 'than': 96, 'country': 97, 'really': 98, 'why': 99, 'yeah': 100, 'soviets': 101, 'didn': 102, 'things': 103, 'has': 104, 'after': 105, 'bombed': 106, 'use': 107, 'weapons': 108, 'military': 109, 'well': 110, 'bad': 111, 'being': 112, 'doesn': 113, 'even': 114, 'its': 115, 'countries': 116, 'american': 117, 'fucking': 118, 'me': 119, 'those': 120, 'hitler': 121, 'first': 122, 'end': 123, 'atrocities': 124, 'good': 125, 'before': 126, 'anything': 127, 'd': 128, 'which': 129, 'lol': 130, 'completely': 131, 'saying': 132, 'bomb': 133, 'world': 134, 'want': 135, 'against': 136, 'killed': 137, 'much': 138, 'show': 139, 'meme': 140, 'used': 141, 'since': 142, 'justified': 143, 'many': 144, 'fair': 145, 'emperor': 146, 'need': 147, 'too': 148, 'right': 149, 'years': 150, 'keep': 151, 'into': 152, 'times': 153, 'least': 154, 'doing': 155, 'black': 156, 'big': 157, 'real': 158, 'mean': 159, 'power': 160, 'any': 161, 'true': 162, 'let': 163, 'again': 164, 'him': 165, 'find': 166, 'called': 167, 'post': 168, 'russia': 169, 'already': 170, 'done': 171, 'race': 172, 'could': 173, 'stop': 174, 'thing': 175, 'reason': 176, 'fire': 177, 'always': 178, 'better': 179, 'op': 180, 'north': 181, 'army': 182, 'best': 183, 'nuke': 184, 'worse': 185, 'invasion': 186, 'germans': 187, 'instead': 188, 'old': 189, 'nose': 190, 'our': 191, 'get': 192, 'accident': 193, 'am': 194, 'wouldn': 195, 'thank': 196, 'making': 197, 'here': 198, 'whole': 199, 'been': 200, 'nein': 201, 'kind': 202, 'enough': 203, 'memes': 204, 'take': 205, 'without': 206, 'korea': 207, 'im': 208, 'two': 209, 'history': 210, 'either': 211, 'force': 212, 'tokyo': 213, 'reasons': 214, 'seems': 215, 'men': 216, 'united': 217, 'states': 218, 'lot': 219, 'weapon': 220, 'made': 221, 'pearl': 222, 'few': 223, 'works': 224, 'wasn': 225, 'ready': 226, 'got': 227, 'upgrade': 228, 'live': 229, 'does': 230, 'started': 231, 'lives': 232, 'cause': 233, 'disney': 234, 'actually': 235, 'god': 236, 'love': 237, 'joke': 238, 'every': 239, 'these': 240, 'probably': 241, 'something': 242, 'lost': 243, 'china': 244, 'another': 245, 'self': 246, 'nuked': 247, 'government': 248, 'threat': 249, 'invade': 250, 'cities': 251, 'atomic': 252, 'new': 253, 'enemy': 254, 'harbour': 255, 'fine': 256, 'secret': 257, 'exactly': 258, 'entire': 259, 'anti': 260, 'grow': 261, 'thats': 262, 'rocket': 263, 'news': 264, 'waldo': 265, 'found': 266, 'white': 267, 'getting': 268, 'school': 269, 'most': 270, 'important': 271, 'happy': 272, 'tarzan': 273, 'man': 274, 'anime': 275, 'someone': 276, 'repost': 277, 'might': 278, 'sure': 279, 'work': 280, 'fun': 281, 'isn': 282, 'kill': 283, 'save': 284, 'forgot': 285, 'missiles': 286, 'gun': 287, 'fight': 288, 'build': 289, 'pretty': 290, 'never': 291, 'gonna': 292, 'fact': 293, 'soldiers': 294, 'won': 295, 'common': 296, 'surrendered': 297, 'ok': 298, 'way': 299, 'invaded': 300, 'different': 301, 'talk': 302, 'own': 303, 'korean': 304, 'asia': 305, 'agree': 306, 'wrong': 307, 'move': 308, 'quickly': 309, 'hiroshima': 310, 'next': 311, 'once': 312, 'surrendering': 313, 'safer': 314, 'besides': 315, 'earlier': 316, 'ever': 317, 'myth': 318, 'life': 319, 'putin': 320, 'ukraine': 321, 'where': 322, 'funny': 323, 'statement': 324, 'down': 325, 'sweden': 326, 'windows': 327, 'peace': 328, 'red': 329, 'upvote': 330, 'block': 331, 'ads': 332, 'ignore': 333, 'somehow': 334, 'said': 335, 'reddit': 336, 'else': 337, 'mouth': 338, 'action': 339, 'nazi': 340, 'change': 341, 'comment': 342, 'nazis': 343, 'maybe': 344, 'human': 345, 'swap': 346, 'main': 347, 'general': 348, 'population': 349, 'she': 350, 'shameless': 351, 'through': 352, 'feel': 353, 'wait': 354, 'number': 355, 'try': 356, 'ones': 357, 'yes': 358, 'allies': 359, 'bringing': 360, 'fist': 361, 'worry': 362, 'banged': 363, 'plane': 364, 'historians': 365, 'imperial': 366, 'mainland': 367, 'energy': 368, 'learned': 369, 'thousands': 370, 'rather': 371, 'may': 372, 'ago': 373, 'destroy': 374, 'months': 375, 'planned': 376, 'issue': 377, 'state': 378, 'ww': 379, 'problem': 380, 'casualties': 381, 'originally': 382, 'option': 383, 'going': 384, 'nanking': 385, 'perfectly': 386, 'died': 387, 'morale': 388, 'during': 389, 'proves': 390, 'future': 391, 'mutually': 392, 'assured': 393, 'destruction': 394, 'attacked': 395, 'research': 396, 'happening': 397, 'u': 398, 'off': 399, 'wanted': 400, 'using': 401, 'happen': 402, 'massacre': 403, 'nato': 404, 'while': 405, 'shut': 406, 'dont': 407, 'grows': 408, 'becomes': 409, 'google': 410, 'holy': 411, 'signs': 412, 'wont': 413, 'dos': 414, 'due': 415, 'refuse': 416, 'give': 417, 'farming': 418, 'ate': 419, 'slice': 420, 'million': 421, 'boys': 422, 'finally': 423, 'hard': 424, 'seeing': 425, 'manage': 426, 'matter': 427, 'away': 428, 'audible': 429, 'boy': 430, 'wizard': 431, 'b': 432, 'viewed': 433, 'taken': 434, 'forced': 435, 'r': 436, 'nothing': 437, 'movies': 438, 'including': 439, 'myself': 440, 'couldn': 441, 'decided': 442, 'strong': 443, 'sounds': 444, 'guys': 445, 'rule': 446, 'satire': 447, 'fuck': 448, 'worried': 449, 'given': 450, 'powerful': 451, 'experienced': 452, 'dare': 453, 'shows': 454, 'shit': 455, 'great': 456, 'touching': 457, 'submarine': 458, 'send': 459, 'please': 460, 'bin': 461, 'laden': 462, 'comments': 463, 'control': 464, 'nuking': 465, 'whether': 466, 'stayed': 467, 'irrational': 468, 'anyone': 469, 'especially': 470, 'understand': 471, 'leave': 472, 'hundreds': 473, 'innocent': 474, 'die': 475, 'basically': 476, 'looks': 477, 'leaflets': 478, 'telling': 479, 'told': 480, 'gen': 481, 'bombings': 482, 'didnt': 483, 'vest': 484, 'treaty': 485, 'go': 486, 'soon': 487, 'high': 488, 'seriously': 489, 'knew': 490, 'become': 491, 'sucks': 492, 'hungry': 493, 'dude': 494, 'empire': 495, 'starting': 496, 'context': 497, 'object': 498, 'damaging': 499, 'surrounding': 500, 'area': 501, 'generations': 502, 'historian': 503, 'staff': 504, 'level': 505, 'mad': 506, 'enemies': 507, 'forever': 508, 'deleting': 509, 'okay': 510, 'target': 511, 'year': 512, 'place': 513, 'cannot': 514, 'both': 515, 'sides': 516, 'chose': 517, 'day': 518, 'went': 519, 'german': 520, 'scientists': 521, 'worked': 522, 'lie': 523, 'meant': 524, 'borders': 525, 'same': 526, 'everyone': 527, 'home': 528, 'v': 529, 'reuse': 530, 'growing': 531, 'truth': 532, 'norwegians': 533, 'ikea': 534, 'lichtenstein': 535, 'norway': 536, 'brother': 537, 'en': 538, 'river': 539, 'help': 540, 'running': 541, 'xp': 542, 'computer': 543, 'dad': 544, 'dead': 545, 'late': 546, 'gotten': 547, 'gottem': 548, 'person': 549, 'wears': 550, 'shirt': 551, 'uk': 552, 'wally': 553, 'side': 554, 'nah': 555, 'blocking': 556, 'washington': 557, 'annoying': 558, 'kid': 559, 'bump': 560, 'thirteen': 561, 'week': 562, 'able': 563, 'click': 564, 'button': 565, 'amazed': 566, 'prioritized': 567, 'took': 568, 'message': 569, 'keeping': 570, 'laughed': 571, 'damn': 572, 'schmidtler': 573, 'look': 574, 'crying': 575, 'mein': 576, 'f': 577, 'hrer': 578, 'netflix': 579, 'adaptation': 580, 'gay': 581, 'money': 582, 'fashion': 583, 'surprise': 584, 'hands': 585, 'false': 586, 'exist': 587, 'however': 588, 'less': 589, 'though': 590, 'documentary': 591, 'featuring': 592, 'photoshop': 593, 'original': 594, 'character': 595, 'goes': 596, 'voring': 597, 'jewish': 598, 'her': 599, 'waistline': 600, 'master': 601, 'cover': 602, 'embarrassed': 603, 'internet': 604, 'violation': 605, 'extra': 606, 'karma': 607, 'lazy': 608, 'missed': 609, 'pass': 610, 'truly': 611, 'today': 612, 'seen': 613, 'idiots': 614, 'failing': 615, 'stealing': 616, 'dick': 617, 'deserver': 618, 'further': 619, 'explenation': 620, 'hope': 621, 'stub': 622, 'toe': 623, 'shouldn': 624, 'fairly': 625, 'certain': 626, 'tested': 627, 'ballistic': 628, 'firing': 629, 'airspace': 630, 'warning': 631, 'relative': 632, 'ending': 633, 'care': 634, 'wise': 635, 'ground': 636, 'zero': 637, 'thought': 638, 'past': 639, 'twice': 640, 'kamikaze': 641, 'pilots': 642, 'baka': 643, 'tower': 644, 'location': 645, 'far': 646, 'throughout': 647, 'course': 648, 'definetly': 649, 'debated': 650, 'facts': 651, 'costly': 652, 'constantly': 653, 'invented': 654, 'abomination': 655, 'source': 656, 'figure': 657, 'knows': 658, 'downvotes': 659, 'americans': 660, 'dumb': 661, 'fucks': 662, 'everything': 663, 'manifest': 664, 'destiny': 665, 'slavery': 666, 'tuskegee': 667, 'experiment': 668, 'mk': 669, 'ultra': 670, 'rest': 671, 'understanding': 672, 'limited': 673, 'room': 674, 'ignorance': 675, 'others': 676, 'launched': 677, 'missile': 678, 'launches': 679, 'svg': 680, 'destructive': 681, 'usa': 682, 'll': 683, 'jesus': 684, 'large': 685, 'mentality': 686, 'ya': 687, 'purple': 688, 'paint': 689, 'extremely': 690, 'huge': 691, 'coming': 692, 'bases': 693, 'trick': 694, 'monstrous': 695, 'break': 696, 'spirits': 697, 'literally': 698, 'hirohito': 699, 'anami': 700, 'aug': 701, 'ward': 702, 'policy': 703, 'stalin': 704, 'soviet': 705, 'must': 706, 'party': 707, 'changed': 708, 'terms': 709, 'tsuyoshi': 710, 'hasegawa': 711, 'article': 712, 'suicide': 713, 'answer': 714, 'non': 715, 'proliferation': 716, 'rok': 717, 'starts': 718, 'problems': 719, 'protection': 720, 'decade': 721, 'lesson': 722, 'prepared': 723, 'happens': 724, 'allow': 725, 'bigger': 726, 'sorry': 727, 'osama': 728, 'twin': 729, 'towers': 730, 'extremist': 731, 'goals': 732, 'speed': 733, 'lose': 734, 'recently': 735, 'rampaged': 736, 'pshh': 737, 'civilias': 738, 'humanity': 739, 'sharp': 740, 'sticks': 741, 'having': 742, 'strike': 743, 'em': 744, 'believe': 745, 'saw': 746, 'negotiations': 747, 'remove': 748, 'responsible': 749, 'committed': 750, 'willing': 751, 'concede': 752, 'position': 753, 'emporor': 754, 'restructured': 755, 'figurehead': 756, 'actual': 757, 'ruler': 758, 'signed': 759, 'constitution': 760, 'democracy': 761, 'nonsense': 762, 'incredibly': 763, 'deleted': 764, 'sying': 765, 'hey': 766, 'prevent': 767, 'pollute': 768, 'radiation': 769, 'suffer': 770, 'cancer': 771, 'sentence': 772, 'truman': 773, 'chief': 774, 'dwight': 775, 'eisenhower': 776, 'curtis': 777, 'lemay': 778, 'internal': 779, 'documents': 780, 'imply': 781, 'resources': 782, 'broken': 783, 'perhaps': 784, 'certainly': 785, 'nagasaki': 786, 'purely': 787, 'abbreviated': 788, 'describing': 789, 'earth': 790, 'present': 791, 'solution': 792, 'nobody': 793, 'wins': 794, 'reading': 795, 'larger': 796, 'west': 797, 'motivation': 798, 'behind': 799, 'navy': 800, 'ends': 801, 'attacks': 802, 'ukrainian': 803, 'ask': 804, 'program': 805, 'advertise': 806, 'focused': 807, 'happened': 808, 'ppl': 809, 'turned': 810, 'wants': 811, 'demanded': 812, 'later': 813, 'proofes': 814, 'indication': 815, 'misinformation': 816, 'standing': 817, 'splintered': 818, 'defecting': 819, 'himself': 820, 'remaining': 821, 'defiant': 822, 'haven': 823, 'several': 824, 'second': 825, 'fear': 826, 'come': 827, 'guy': 828, 'napoleon': 829, 'everybody': 830, 'capable': 831, 'conquest': 832, 'wars': 833, 'performing': 834, 'disgusting': 835, 'cannibalism': 836, 'australian': 837, 'nurses': 838, 'til': 839, 'finds': 840, 'defected': 841, 'manhattan': 842, 'project': 843, 'political': 844, 'weird': 845, 'produce': 846, 'otherwise': 847, 'put': 848, 'utopia': 849, 'job': 850, 'insane': 851, 'makes': 852, 'line': 853, 'exceptions': 854, 'justify': 855, 'defence': 856, 'revenge': 857, 'carry': 858, 'women': 859, 'raped': 860, 'families': 861, 'family': 862, 'swords': 863, 'single': 864, 'video': 865, 'built': 866, 'rockets': 867, 'lmao': 868, 'heard': 869, 'fuel': 870, 'process': 871, 'almost': 872, 'reactors': 873, 'trash': 874, 'pls': 875, 'glassfibre': 876, 'couple': 877, 'simple': 878, 'plants': 879, 'needs': 880, 'prediction': 881, 'bro': 882, 'repeating': 883, 'cycle': 884, 'shrinking': 885, 'guess': 886, 'thrust': 887, 'mechanism': 888, 'drill': 889, 'sex': 890, 'toy': 891, 'hanging': 892, 'chair': 893, 'hating': 894, 'magnus': 895, 'carlsen': 896, 'florks': 897, 'accidental': 898, 'considering': 899, 'switzerland': 900, 'response': 901, 'joins': 902, 'swedes': 903, 'sent': 904, 'inform': 905, 'officials': 906, 'landing': 907, 'gif': 908, 'search': 909, 'swedish': 910, 'passant': 911, 'technically': 912, 'swiss': 913, 'lichtensteinian': 914, 'thogh': 915, 'table': 916, 'originate': 917, 'pmseymoura': 918, 'series': 919, 'flork': 920, 'crows': 921, 'case': 922, 'wonderinh': 923, 'hell': 924, 'putting': 925, 'cross': 926, 'bridge': 927, 'above': 928, 'difficult': 929, 'properly': 930, 'water': 931, 'changes': 932, 'woosh': 933, 'remember': 934, 'inch': 935, 'floppy': 936, 'viagra': 937, 'prescription': 938, 'pc': 939, 'various': 940, 'programs': 941, 'replacement': 942, 'migration': 943, 'path': 944, 'data': 945, 'pay': 946, 'bought': 947, 'corporations': 948, 'boardroom': 949, 'approve': 950, 'budget': 951, 'older': 952, 'cake': 953, 'oregon': 954, 'trail': 955, 'virus': 956, 'space': 957, 'free': 958, 'rick': 959, 'social': 960, 'imma': 961, 'mess': 962, 'wild': 963, 'commotion': 964, 'losing': 965, 'promptly': 966, 'threw': 967, 'last': 968, 'loving': 969, 'sibling': 970, 'broke': 971, 'pie': 972, 'check': 973, 'characters': 974, 'swapped': 975, 'commented': 976, 'virgin': 977, 'clones': 978, 'dammit': 979, 'searching': 980, 'random': 981, 'confused': 982, 'noises': 983, 'googled': 984, 'pond': 985, 'downvote': 986, 'checked': 987, 'downvoted': 988, 'moments': 989, 'user': 990, 'votes': 991, 'anyways': 992, 'gone': 993, 'results': 994, 'allegedly': 995, 'placebo': 996, 'blocked': 997, 'chumba': 998, 'casino': 999, 'adds': 1000, 'keeps': 1001, 'showing': 1002, 'longer': 1003, 'ad': 1004, 'accounts': 1005, 'notification': 1006, 'users': 1007, 'dafuq': 1008, 'tho': 1009, 'difference': 1010, 'paid': 1011, 'sending': 1012, 'yep': 1013, 'comes': 1014, 'reich': 1015, 'name': 1016, 'yo': 1017, 'patiently': 1018, 'waiting': 1019, 'balls': 1020, 'movie': 1021, 'starring': 1022, 'belong': 1023, 'habitat': 1024, 'jews': 1025, 'wife': 1026, 'schmidt': 1027, 'massacred': 1028, 'hilter': 1029, 'gang': 1030, 'zyklon': 1031, 'looking': 1032, 'ngl': 1033, 'slap': 1034, 'scene': 1035, 'included': 1036, 'mussolini': 1037, 'catch': 1038, 'eva': 1039, 'braun': 1040, 'hair': 1041, 'associated': 1042, 'negatively': 1043, 'smith': 1044, 'scientologist': 1045, 'positively': 1046, 'nowadays': 1047, 'whites': 1048, 'title': 1049, 'upvoted': 1050, 'forget': 1051, 'crucial': 1052, 'aspect': 1053, 'flair': 1054, 'anytime': 1055, 'angry': 1056, 'triggered': 1057, 'win': 1058, 'easier': 1059, 'spot': 1060, 'online': 1061, 'eh': 1062, 'dunno': 1063, 'comedy': 1064, 'regular': 1065, 'pushback': 1066, 'racism': 1067, 'liable': 1068, 'thinking': 1069, 'racist': 1070, 'historically': 1071, 'inaccurate': 1072, 'comparison': 1073, 'african': 1074, 'slave': 1075, 'trade': 1076, 'bunch': 1077, 'dudes': 1078, 'plantation': 1079, 'therightcantmeme': 1080, 'politics': 1081, 'unless': 1082, 'brings': 1083, 'ai': 1084, 'sponsored': 1085, 'missing': 1086, 'afaik': 1087, 'cast': 1088, 'originated': 1089, 'comics': 1090, 'novels': 1091, 'scmadolf': 1092, 'schmitler': 1093, 'schmates': 1094, 'schmews': 1095, 'independent': 1096, 'woman': 1097, 'anne': 1098, 'frank': 1099, 'story': 1100, 'villian': 1101, 'oh': 1102, 'early': 1103, 'mashup': 1104, 'image': 1105, 'dig': 1106, 'samuel': 1107, 'l': 1108, 'jackson': 1109, 'reallzed': 1110, 'delete': 1111, 'miss': 1112, 'ability': 1113, 'distinguish': 1114, 'pit': 1115, 'bulls': 1116, 'walks': 1117, 'muzzle': 1118, 'filmed': 1119, 'dog': 1120, 'scared': 1121, 'memers': 1122, 'excuses': 1123, 'dictatorships': 1124, 'challenge': 1125, 'impossible': 1126, 'severely': 1127, 'word': 1128, 'monsters': 1129, 'expecting': 1130, 'threatens': 1131, 'top': 1132, 'protecting': 1133, 'powers': 1134, 'engage': 1135, 'principles': 1136, 'suffered': 1137, 'notable': 1138, 'defeats': 1139, 'wwii': 1140, 'equivalency': 1141, 'drawing': 1142, 'between': 1143, 'spared': 1144, 'horrific': 1145, 'boats': 1146, 'wtf': 1147, 'watch': 1148, 'hentai': 1149, 'fr': 1150, 'devolved': 1151, 'failed': 1152, 'humans': 1153, 'planes': 1154, 'offense': 1155, 'imperials': 1156, 'concerning': 1157, 'specifics': 1158, 'argued': 1159, 'ensure': 1160, 'absolute': 1161, 'ease': 1162, 'under': 1163, 'dominance': 1164, 'among': 1165, 'explanation': 1166, 'entered': 1167, 'region': 1168, 'possible': 1169, 'absolve': 1170, 'crimes': 1171, 'arguably': 1172, 'germany': 1173, 'internment': 1174, 'camps': 1175, 'weren': 1176, 'shittiest': 1177, 'luck': 1178, 'jeez': 1179, 'wonder': 1180, 'smh': 1181, 'oooh': 1182, 'yall': 1183, 'salty': 1184, 'teach': 1185, 'successfully': 1186, 'shooting': 1187, 'direction': 1188, 'noteworthy': 1189, 'europe': 1190, 'obviously': 1191, 'brained': 1192, 'statistically': 1193, 'needed': 1194, 'christ': 1195, 'instatly': 1196, 'pulverized': 1197, 'individuals': 1198, 'former': 1199, 'tribe': 1200, 'grandfather': 1201, 'framed': 1202, 'heart': 1203, 'privilege': 1204, 'picture': 1205, 'shits': 1206, 'giggles': 1207, 'openly': 1208, 'plainly': 1209, 'supported': 1210, 'subjugation': 1211, 'logic': 1212, 'warn': 1213, 'ally': 1214, 'close': 1215, 'nearly': 1216, 'hundred': 1217, 'tell': 1218, 'objects': 1219, 'lots': 1220, 'children': 1221, 'monster': 1222, 'declaring': 1223, 'convinced': 1224, 'edit': 1225, 'adding': 1226, 'academic': 1227, 'sources': 1228, 'y': 1229, 'skeptical': 1230, 'remarked': 1231, 'menacing': 1232, 'endured': 1233, 'wilson': 1234, 'foreign': 1235, 'beat': 1236, 'prime': 1237, 'minister': 1238, 'kantaro': 1239, 'suzuki': 1240, 'explained': 1241, 'union': 1242, 'manchuria': 1243, 'karafuto': 1244, 'hokkaido': 1245, 'foundation': 1246, 'deal': 1247, 'gar': 1248, 'alperovitz': 1249, 'martin': 1250, 'sherwin': 1251, 'anniversary': 1252, 'fantastic': 1253, 'suggestion': 1254, 'opinions': 1255, 'decisively': 1256, 'views': 1257, 'ruling': 1258, 'elite': 1259, 'entry': 1260, 'catapulted': 1261, 'taking': 1262, 'immediate': 1263, 'squarely': 1264, 'confront': 1265, 'accept': 1266, 'potsdam': 1267, 'html': 1268, 'bullshit': 1269, 'japn': 1270, 'asian': 1271, 'australia': 1272, 'nz': 1273, 'plenty': 1274, 'rogue': 1275, 'nk': 1276, 'creating': 1277, 'arsenal': 1278, 'set': 1279, 'arise': 1280, 'plurality': 1281, 'unbeatable': 1282, 'protector': 1283, 'anymore': 1284, 'treaties': 1285, 'window': 1286, 'ton': 1287, 'debate': 1288, 'continue': 1289, 'rely': 1290, 'arm': 1291, 'protect': 1292, 'themselves': 1293, 'geopolitical': 1294, 'landscape': 1295, 'changing': 1296, 'speak': 1297, 'harder': 1298, 'stand': 1299, 'farther': 1300, 'building': 1301, 'loved': 1302, 'imo': 1303, 'elaborate': 1304, 'positive': 1305, 'background': 1306, 'leaders': 1307, 'based': 1308, 'hopefully': 1309, 'scare': 1310, 'horrifically': 1311, 'casualty': 1312, 'projections': 1313, 'likely': 1314, 'fought': 1315, 'projected': 1316, 'forces': 1317, 'interesting': 1318, 'gives': 1319, 'hearts': 1320, 'losses': 1321, 'expected': 1322, 'saved': 1323, 'support': 1324, 'blind': 1325, 'delusion': 1326, 'intended': 1327, 'cus': 1328, 'currently': 1329, 'threatening': 1330, 'back': 1331, 'folks': 1332, 'aren': 1333, 'yup': 1334, 'citing': 1335, 'fortunately': 1336, 'genius': 1337, 'lax': 1338, 'maintenance': 1339, 'touch': 1340, 'hb': 1341, 'dictator': 1342, 'picked': 1343, 'drone': 1344, 'kim': 1345, 'jong': 1346, 'un': 1347, 'wouldnt': 1348, 'survive': 1349, 'ruined': 1350, 'dprk': 1351, 'destroyed': 1352, 'poverty': 1353, 'juche': 1354, 'dictatorship': 1355, 'unfair': 1356, 'mention': 1357, 'disarmament': 1358, 'criminals': 1359, 'occupied': 1360, 'territories': 1361, 'qualifies': 1362, 'negotiation': 1363, 'sarcastic': 1364, 'created': 1365, 'k': 1366, 'deserve': 1367, 'neither': 1368, 'campaign': 1369, 'month': 1370, 'mentions': 1371, 'combined': 1372, 'imagine': 1373, 'mcarthur': 1374, 'suck': 1375, 'scenario': 1376, 'amount': 1377, 'launch': 1378, 'translation': 1379, 'manipulated': 1380, 'till': 1381, 'opinion': 1382, 'warned': 1383, 'drop': 1384, 'waited': 1385, 'days': 1386, 'citizens': 1387, 'thinks': 1388, 'laws': 1389, 'sense': 1390, 'purposefully': 1391, 'simply': 1392, 'bit': 1393, 'irony': 1394, 'jeff': 1395, 'harbor': 1396, 'hill': 1397, 'notice': 1398, 'thx': 1399, 'conditionally': 1400, 'unconditionally': 1401, 'haded': 1402, 'scumbag': 1403, 'head': 1404, 'pike': 1405, 'easy': 1406, 'decision': 1407, 'devastation': 1408, 'caused': 1409, 'picking': 1410, 'lessons': 1411, 'russian': 1412, 'propaganda': 1413, 'scatchy': 1414, 'evil': 1415, 'corruption': 1416, 'manipulation': 1417, 'naturally': 1418, 'normal': 1419, 'desecrate': 1420, 'city': 1421, 'invisible': 1422, 'poison': 1423, 'alliances': 1424, 'hesitated': 1425, 'invading': 1426, 'yoinking': 1427, 'unresisted': 1428, 'motherfucker': 1429, 'communist': 1430, 'boogaloo': 1431, 'conquerers': 1432, 'scale': 1433, 'nukemania': 1434, 'kinda': 1435, 'tensions': 1436, 'puts': 1437, 'deterrent': 1438, 'carried': 1439, 'youngs': 1440, 'kids': 1441, 'ashes': 1442, 'pretext': 1443, 'ukrainians': 1444, 'tomorrow': 1445, 'middle': 1446, 'east': 1447, 'carrying': 1448, 'rules': 1449, 'living': 1450, 'bodies': 1451, 'mutilated': 1452, 'equally': 1453, 'civilian': 1454, 'possession': 1455, 'brought': 1456, 'looting': 1457, 'available': 1458, 'thousand': 1459, 'iraq': 1460, 'syria': 1461, 'afghanistan': 1462, 'soldier': 1463, 'convicted': 1464, 'opend': 1465, 'helicopter': 1466, 'standers': 1467, 'laughing': 1468, 'personal': 1469, 'removed': 1470, 'service': 1471, 'bail': 1472, 'reporter': 1473, 'released': 1474, 'jailed': 1475, 'leaking': 1476, 'sensitive': 1477, 'blow': 1478, 'mind': 1479, 'call': 1480, 'smile': 1481, 'eyes': 1482, 'worst': 1483, 'argument': 1484, 'coal': 1485, 'cleaner': 1486, 'fingertips': 1487, 'trolling': 1488, 'gas': 1489, 'kept': 1490, 'scheduled': 1491, 'dec': 1492, 'postponed': 1493, 'until': 1494, 'april': 1495, 'workers': 1496, 'elements': 1497, 'wind': 1498, 'solar': 1499, 'ran': 1500, 'ways': 1501, 'reduce': 1502, 'recycle': 1503, 'shutdown': 1504, 'very': 1505, 'expensive': 1506, 'unfeasible': 1507, 'prolong': 1508, 'electrician': 1509, 'talked': 1510, 'dangerous': 1511, 'manteinance': 1512, 'dismantle': 1513, 'surprised': 1514, 'prypiat': 1515, 'sadly': 1516, 'start': 1517, 'predicting': 1518, 'implied': 1519, 'events': 1520, 'yet': 1521, 'occur': 1522, 'nor': 1523, 'inevitable': 1524, 'discovered': 1525, 'referential': 1526, 'paradox': 1527, 'stumble': 1528, 'upon': 1529, 'halting': 1530, 'class': 1531, 'unsolvable': 1532, 'particular': 1533, 'proof': 1534, 'turing': 1535, 'machine': 1536, 'accepts': 1537, 'lead': 1538, 'logical': 1539, 'contradiction': 1540, 'vibrator': 1541, 'lower': 1542, 'horn': 1543, 'seconds': 1544, 'wood': 1545, 'moment': 1546, 'precisely': 1547, 'researching': 1548, 'react': 1549, 'hit': 1550, 'inherit': 1551, 'intrinsic': 1552, 'disdain': 1553, 'natural': 1554, 'names': 1555, 'little': 1556, 'template': 1557, 'xd': 1558, 'swit': 1559, 'wound': 1560, 'tend': 1561, 'agressive': 1562, 'lobbing': 1563, 'explosives': 1564, 'looked': 1565, 'attack': 1566, 'helicopters': 1567, 'step': 1568, 'scandinavian': 1569, 'assemble': 1570, 'yourself': 1571, 'hahaha': 1572, 'massively': 1573, 'underrated': 1574, 'activate': 1575, 'cid': 1576, 'fy': 1577, 'ahpfndyz': 1578, 'kxyjireqgthms': 1579, 'z': 1580, 'hg': 1581, 'uvt': 1582, 'ep': 1583, 'gifs': 1584, 'rid': 1585, 'giphy': 1586, 'ct': 1587, 'g': 1588, 'create': 1589, 'norvegian': 1590, 'denmark': 1591, 'claim': 1592, 'ex': 1593, 'girlfriend': 1594, 'norwegian': 1595, 'hate': 1596, 'each': 1597, 'nordic': 1598, 'hates': 1599, 'jag': 1600, 'beklagar': 1601, 'norge': 1602, 'takk': 1603, 'det': 1604, 'hjelper': 1605, 'litt': 1606, 'alternative': 1607, 'dropping': 1608, 'upset': 1609, 'teknisk': 1610, 'sett': 1611, 'sannheten': 1612, 'brandnewsentence': 1613, 'explosive': 1614, 'reactive': 1615, 'armour': 1616, 'increase': 1617, 'visibility': 1618, 'boarders': 1619, 'liechtenstein': 1620, 'qxir': 1621, 'vid': 1622, 'links': 1623, 'hilarious': 1624, 'turkey': 1625, 'pissed': 1626, 'strange': 1627, 'chairssant': 1628, 'visible': 1629, 'spray': 1630, 'border': 1631, 'bold': 1632, 'letters': 1633, 'appreciate': 1634, 'hated': 1635, 'speacking': 1636, 'followed': 1637, 'finished': 1638, 'yesterday': 1639, 'college': 1640, 'bcs': 1641, 'student': 1642, 'installed': 1643, 'workgroups': 1644, 'drink': 1645, 'seriousness': 1646, 'outright': 1647, 'refused': 1648, 'vista': 1649, 'came': 1650, 'content': 1651, 'uploads': 1652, 'cocodiskextendedcolorbasic': 1653, 'png': 1654, 'w': 1655, 'woaahh': 1656, 'cool': 1657, 'trs': 1658, 'loaded': 1659, 'heck': 1660, 'play': 1661, 'doom': 1662, 'que': 1663, 'book': 1664, 'inches': 1665, 'thick': 1666, 'compaq': 1667, 'presario': 1668, 'ibm': 1669, 'automotive': 1670, 'manufacture': 1671, 'hacked': 1672, 'wannacry': 1673, 'machines': 1674, 'waaaaaay': 1675, 'outdated': 1676, 'thanks': 1677, 'dysentery': 1678, 'enter': 1679, 'turn': 1680, 'flex': 1681, 'varre': 1682, 'elden': 1683, 'ring': 1684, 'maidenless': 1685, 'ditch': 1686, 'reverse': 1687, 'rickrolled': 1688, 'fortunate': 1689, 'media': 1690, 'sake': 1691, 'mute': 1692, 'twitter': 1693, 'discord': 1694, 'typically': 1695, 'bothered': 1696, 'hand': 1697, 'disagree': 1698, 'choices': 1699, 'classic': 1700, 'double': 1701, 'bluff': 1702, 'upvotes': 1703, 'pizza': 1704, 'respect': 1705, 'ur': 1706, 'ambition': 1707, 'apparently': 1708, 'blood': 1709, 'trans': 1710, 'experimenting': 1711, 'devotion': 1712, 'walk': 1713, 'attractive': 1714, 'smart': 1715, 'disease': 1716, 'drug': 1717, 'ugly': 1718, 'stupid': 1719, 'bore': 1720}\n"
          ]
        }
      ]
    },
    {
      "cell_type": "code",
      "source": [
        "input_seq = []\n",
        "\n",
        "for line in final_data:\n",
        "  token_list = tokenizer.texts_to_sequences([line])[0]\n",
        "  for i in range(1, len(token_list)):\n",
        "    n_gram_seq = token_list[:i+1]\n",
        "    input_seq.append(n_gram_seq)\n",
        "\n",
        "# print(input_seq)"
      ],
      "metadata": {
        "id": "jIdXQIXtYHNQ"
      },
      "execution_count": null,
      "outputs": []
    },
    {
      "cell_type": "code",
      "source": [
        "# Getting the maximum length of sequence for padding purpose\n",
        "max_seq_length = max(len(x) for x in input_seq)\n",
        "print(max_seq_length)\n",
        "\n",
        "# Padding the sequences and converting them to array\n",
        "input_seq = np.array(pad_sequences(input_seq, maxlen=max_seq_length, padding='pre'))\n",
        "print(input_seq)"
      ],
      "metadata": {
        "colab": {
          "base_uri": "https://localhost:8080/"
        },
        "id": "IMpqfGGzYJ2d",
        "outputId": "4719cc06-3459-43de-8f4c-add44b34c0b2"
      },
      "execution_count": null,
      "outputs": [
        {
          "output_type": "stream",
          "name": "stdout",
          "text": [
            "326\n",
            "[[  0   0   0 ...   0 110   8]\n",
            " [  0   0   0 ... 110   8  22]\n",
            " [  0   0   0 ...   8  22 125]\n",
            " ...\n",
            " [  0   0   0 ...  43 544  13]\n",
            " [  0   0   0 ... 544  13   3]\n",
            " [  0   0   0 ...  13   3 977]]\n"
          ]
        }
      ]
    },
    {
      "cell_type": "code",
      "source": [
        "# Taking xs and labels to train the model.\n",
        "\n",
        "xs = input_seq[:, :-1]        # xs contains every word in sentence except the last one because we are using this value to predict the y value\n",
        "labels = input_seq[:, -1]     # labels contains only the last word of the sentence which will help in hot encoding the y value in next step\n",
        "print(\"xs: \",xs)\n",
        "print(\"labels:\",labels)"
      ],
      "metadata": {
        "colab": {
          "base_uri": "https://localhost:8080/"
        },
        "id": "8nbWlSGcYUub",
        "outputId": "62eb9b91-72d2-4a8c-b3ca-e3d0ab8d4353"
      },
      "execution_count": null,
      "outputs": [
        {
          "output_type": "stream",
          "name": "stdout",
          "text": [
            "xs:  [[  0   0   0 ...   0   0 110]\n",
            " [  0   0   0 ...   0 110   8]\n",
            " [  0   0   0 ... 110   8  22]\n",
            " ...\n",
            " [  0   0   0 ... 544  43 544]\n",
            " [  0   0   0 ...  43 544  13]\n",
            " [  0   0   0 ... 544  13   3]]\n",
            "labels: [  8  22 125 ...  13   3 977]\n"
          ]
        }
      ]
    },
    {
      "cell_type": "code",
      "source": [
        "from tensorflow.keras.utils import to_categorical\n",
        "\n",
        "# one-hot encoding the labels according to the vocab size\n",
        "\n",
        "# The matrix is square matrix of the size of vocab_size. Each row will denote a label and it will have \n",
        "# a single +ve value(i.e 1) for that label and other values will be zero. \n",
        "\n",
        "ys = to_categorical(labels, num_classes=vocab_size)\n",
        "print(ys)"
      ],
      "metadata": {
        "colab": {
          "base_uri": "https://localhost:8080/"
        },
        "id": "5-Gy7L5KYXnn",
        "outputId": "e6d0a5bf-ca26-4b62-f44a-3769cb4da644"
      },
      "execution_count": null,
      "outputs": [
        {
          "output_type": "stream",
          "name": "stdout",
          "text": [
            "[[0. 0. 0. ... 0. 0. 0.]\n",
            " [0. 0. 0. ... 0. 0. 0.]\n",
            " [0. 0. 0. ... 0. 0. 0.]\n",
            " ...\n",
            " [0. 0. 0. ... 0. 0. 0.]\n",
            " [0. 0. 0. ... 0. 0. 0.]\n",
            " [0. 0. 0. ... 0. 0. 0.]]\n"
          ]
        }
      ]
    },
    {
      "cell_type": "code",
      "source": [
        "from tensorflow.keras.layers import Input, Dense, Embedding, LSTM, Dropout, Bidirectional, GlobalMaxPooling1D\n",
        "from tensorflow.keras.models import Model\n",
        "from tensorflow.keras.optimizers import Adam\n",
        "from tensorflow.keras.models import Sequential\n",
        "\n",
        "# using the functional APIs of keras to define the model\n",
        "\n",
        "i = Input(shape=(max_seq_length - 1, ))                           # using 1 less value becasuse we are preserving the last value for predicted word \n",
        "x = Embedding(vocab_size, 124)(i)\n",
        "x = Dropout(0.2)(x)\n",
        "x = LSTM(520, return_sequences=True)(x)\n",
        "x = Bidirectional(layer=LSTM(340, return_sequences=True))(x)\n",
        "x = GlobalMaxPooling1D()(x)\n",
        "x = Dense(1024, activation='relu')(x)\n",
        "x = Dense(vocab_size, activation='softmax')(x)\n",
        "\n",
        "model = Model(i,x)"
      ],
      "metadata": {
        "id": "l5XYZaJnYbvj"
      },
      "execution_count": null,
      "outputs": []
    },
    {
      "cell_type": "code",
      "source": [
        "\n",
        "model.compile(optimizer='adam', loss='categorical_crossentropy', metrics=['accuracy'])\n",
        "r = model.fit(xs, ys, batch_size=32, epochs=100, use_multiprocessing=True, workers=-1)\n",
        "\n"
      ],
      "metadata": {
        "colab": {
          "base_uri": "https://localhost:8080/"
        },
        "id": "i1cL7F0OYeBs",
        "outputId": "0a11750b-5d62-4ac2-d899-fe3cb88d8562"
      },
      "execution_count": null,
      "outputs": [
        {
          "output_type": "stream",
          "name": "stdout",
          "text": [
            "Epoch 1/100\n",
            "268/268 [==============================] - 68s 209ms/step - loss: 6.5330 - accuracy: 0.0414\n",
            "Epoch 2/100\n",
            "268/268 [==============================] - 40s 151ms/step - loss: 6.3172 - accuracy: 0.0450\n",
            "Epoch 3/100\n",
            "268/268 [==============================] - 36s 134ms/step - loss: 6.1649 - accuracy: 0.0449\n",
            "Epoch 4/100\n",
            "268/268 [==============================] - 36s 135ms/step - loss: 6.0152 - accuracy: 0.0459\n",
            "Epoch 5/100\n",
            "268/268 [==============================] - 35s 129ms/step - loss: 5.8165 - accuracy: 0.0613\n",
            "Epoch 6/100\n",
            "268/268 [==============================] - 34s 128ms/step - loss: 5.5974 - accuracy: 0.0705\n",
            "Epoch 7/100\n",
            "268/268 [==============================] - 34s 125ms/step - loss: 5.4110 - accuracy: 0.0799\n",
            "Epoch 8/100\n",
            "268/268 [==============================] - 33s 124ms/step - loss: 5.2227 - accuracy: 0.0872\n",
            "Epoch 9/100\n",
            "268/268 [==============================] - 33s 124ms/step - loss: 5.0243 - accuracy: 0.0961\n",
            "Epoch 10/100\n",
            "268/268 [==============================] - 33s 123ms/step - loss: 4.8140 - accuracy: 0.1067\n",
            "Epoch 11/100\n",
            "268/268 [==============================] - 34s 125ms/step - loss: 4.5891 - accuracy: 0.1172\n",
            "Epoch 12/100\n",
            "268/268 [==============================] - 33s 123ms/step - loss: 4.3788 - accuracy: 0.1306\n",
            "Epoch 13/100\n",
            "268/268 [==============================] - 33s 124ms/step - loss: 4.1480 - accuracy: 0.1468\n",
            "Epoch 14/100\n",
            "268/268 [==============================] - 33s 123ms/step - loss: 3.9238 - accuracy: 0.1657\n",
            "Epoch 15/100\n",
            "268/268 [==============================] - 34s 126ms/step - loss: 3.6878 - accuracy: 0.1909\n",
            "Epoch 16/100\n",
            "268/268 [==============================] - 33s 122ms/step - loss: 3.4625 - accuracy: 0.2187\n",
            "Epoch 17/100\n",
            "268/268 [==============================] - 33s 122ms/step - loss: 3.2451 - accuracy: 0.2546\n",
            "Epoch 18/100\n",
            "268/268 [==============================] - 33s 124ms/step - loss: 3.0200 - accuracy: 0.2819\n",
            "Epoch 19/100\n",
            "268/268 [==============================] - 33s 124ms/step - loss: 2.7829 - accuracy: 0.3271\n",
            "Epoch 20/100\n",
            "268/268 [==============================] - 33s 124ms/step - loss: 2.5582 - accuracy: 0.3706\n",
            "Epoch 21/100\n",
            "268/268 [==============================] - 33s 123ms/step - loss: 2.3371 - accuracy: 0.4175\n",
            "Epoch 22/100\n",
            "268/268 [==============================] - 33s 122ms/step - loss: 2.1164 - accuracy: 0.4638\n",
            "Epoch 23/100\n",
            "268/268 [==============================] - 33s 123ms/step - loss: 1.8986 - accuracy: 0.5120\n",
            "Epoch 24/100\n",
            "268/268 [==============================] - 33s 123ms/step - loss: 1.6976 - accuracy: 0.5680\n",
            "Epoch 25/100\n",
            "268/268 [==============================] - 33s 123ms/step - loss: 1.5161 - accuracy: 0.6071\n",
            "Epoch 26/100\n",
            "268/268 [==============================] - 33s 123ms/step - loss: 1.3544 - accuracy: 0.6401\n",
            "Epoch 27/100\n",
            "268/268 [==============================] - 33s 122ms/step - loss: 1.1846 - accuracy: 0.6911\n",
            "Epoch 28/100\n",
            "268/268 [==============================] - 33s 122ms/step - loss: 1.0583 - accuracy: 0.7183\n",
            "Epoch 29/100\n",
            "268/268 [==============================] - 33s 122ms/step - loss: 0.9252 - accuracy: 0.7576\n",
            "Epoch 30/100\n",
            "268/268 [==============================] - 33s 122ms/step - loss: 0.7914 - accuracy: 0.7966\n",
            "Epoch 31/100\n",
            "268/268 [==============================] - 33s 122ms/step - loss: 0.6818 - accuracy: 0.8226\n",
            "Epoch 32/100\n",
            "268/268 [==============================] - 33s 123ms/step - loss: 0.6078 - accuracy: 0.8446\n",
            "Epoch 33/100\n",
            "268/268 [==============================] - 33s 122ms/step - loss: 0.5284 - accuracy: 0.8649\n",
            "Epoch 34/100\n",
            "268/268 [==============================] - 33s 122ms/step - loss: 0.4682 - accuracy: 0.8831\n",
            "Epoch 35/100\n",
            "268/268 [==============================] - 33s 122ms/step - loss: 0.4490 - accuracy: 0.8954\n",
            "Epoch 36/100\n",
            "268/268 [==============================] - 33s 123ms/step - loss: 0.3491 - accuracy: 0.9148\n",
            "Epoch 37/100\n",
            "268/268 [==============================] - 33s 124ms/step - loss: 0.3126 - accuracy: 0.9253\n",
            "Epoch 38/100\n",
            "268/268 [==============================] - 33s 122ms/step - loss: 0.2713 - accuracy: 0.9349\n",
            "Epoch 39/100\n",
            "268/268 [==============================] - 33s 122ms/step - loss: 0.2376 - accuracy: 0.9462\n",
            "Epoch 40/100\n",
            "268/268 [==============================] - 33s 123ms/step - loss: 0.2164 - accuracy: 0.9498\n",
            "Epoch 41/100\n",
            "268/268 [==============================] - 33s 122ms/step - loss: 0.2022 - accuracy: 0.9533\n",
            "Epoch 42/100\n",
            "268/268 [==============================] - 33s 123ms/step - loss: 0.2019 - accuracy: 0.9538\n",
            "Epoch 43/100\n",
            "268/268 [==============================] - 33s 122ms/step - loss: 0.2096 - accuracy: 0.9470\n",
            "Epoch 44/100\n",
            "268/268 [==============================] - 33s 122ms/step - loss: 0.1762 - accuracy: 0.9566\n",
            "Epoch 45/100\n",
            "268/268 [==============================] - 33s 122ms/step - loss: 0.1706 - accuracy: 0.9599\n",
            "Epoch 46/100\n",
            "268/268 [==============================] - 33s 123ms/step - loss: 0.1898 - accuracy: 0.9501\n",
            "Epoch 47/100\n",
            "268/268 [==============================] - 33s 124ms/step - loss: 0.1819 - accuracy: 0.9532\n",
            "Epoch 48/100\n",
            "268/268 [==============================] - 33s 123ms/step - loss: 0.1493 - accuracy: 0.9628\n",
            "Epoch 49/100\n",
            "268/268 [==============================] - 33s 122ms/step - loss: 0.1304 - accuracy: 0.9665\n",
            "Epoch 50/100\n",
            "268/268 [==============================] - 33s 122ms/step - loss: 0.1143 - accuracy: 0.9713\n",
            "Epoch 51/100\n",
            "268/268 [==============================] - 33s 123ms/step - loss: 0.1133 - accuracy: 0.9693\n",
            "Epoch 52/100\n",
            "268/268 [==============================] - 33s 122ms/step - loss: 0.1229 - accuracy: 0.9672\n",
            "Epoch 53/100\n",
            "268/268 [==============================] - 33s 122ms/step - loss: 0.1241 - accuracy: 0.9680\n",
            "Epoch 54/100\n",
            "268/268 [==============================] - 33s 122ms/step - loss: 0.1667 - accuracy: 0.9548\n",
            "Epoch 55/100\n",
            "268/268 [==============================] - 33s 122ms/step - loss: 0.1866 - accuracy: 0.9475\n",
            "Epoch 56/100\n",
            "268/268 [==============================] - 33s 122ms/step - loss: 0.1606 - accuracy: 0.9546\n",
            "Epoch 57/100\n",
            "268/268 [==============================] - 33s 122ms/step - loss: 0.1041 - accuracy: 0.9721\n",
            "Epoch 58/100\n",
            "268/268 [==============================] - 33s 123ms/step - loss: 0.0910 - accuracy: 0.9756\n",
            "Epoch 59/100\n",
            "268/268 [==============================] - 33s 122ms/step - loss: 0.0910 - accuracy: 0.9743\n",
            "Epoch 60/100\n",
            "268/268 [==============================] - 33s 122ms/step - loss: 0.0961 - accuracy: 0.9735\n",
            "Epoch 61/100\n",
            "268/268 [==============================] - 33s 122ms/step - loss: 0.0953 - accuracy: 0.9736\n",
            "Epoch 62/100\n",
            "268/268 [==============================] - 33s 122ms/step - loss: 0.1132 - accuracy: 0.9679\n",
            "Epoch 63/100\n",
            "268/268 [==============================] - 33s 122ms/step - loss: 0.1255 - accuracy: 0.9630\n",
            "Epoch 64/100\n",
            "268/268 [==============================] - 33s 123ms/step - loss: 0.1539 - accuracy: 0.9551\n",
            "Epoch 65/100\n",
            "268/268 [==============================] - 33s 122ms/step - loss: 0.1464 - accuracy: 0.9566\n",
            "Epoch 66/100\n",
            "268/268 [==============================] - 33s 122ms/step - loss: 0.1192 - accuracy: 0.9662\n",
            "Epoch 67/100\n",
            "268/268 [==============================] - 33s 122ms/step - loss: 0.0983 - accuracy: 0.9714\n",
            "Epoch 68/100\n",
            "268/268 [==============================] - 33s 122ms/step - loss: 0.0787 - accuracy: 0.9770\n",
            "Epoch 69/100\n",
            "268/268 [==============================] - 33s 123ms/step - loss: 0.0705 - accuracy: 0.9793\n",
            "Epoch 70/100\n",
            "268/268 [==============================] - 33s 122ms/step - loss: 0.0801 - accuracy: 0.9771\n",
            "Epoch 71/100\n",
            "268/268 [==============================] - 33s 122ms/step - loss: 0.0883 - accuracy: 0.9737\n",
            "Epoch 72/100\n",
            "268/268 [==============================] - 33s 122ms/step - loss: 0.1040 - accuracy: 0.9692\n",
            "Epoch 73/100\n",
            "268/268 [==============================] - 33s 122ms/step - loss: 0.1139 - accuracy: 0.9660\n",
            "Epoch 74/100\n",
            "268/268 [==============================] - 33s 122ms/step - loss: 0.0978 - accuracy: 0.9707\n",
            "Epoch 75/100\n",
            "268/268 [==============================] - 33s 122ms/step - loss: 0.0922 - accuracy: 0.9725\n",
            "Epoch 76/100\n",
            "268/268 [==============================] - 33s 122ms/step - loss: 0.0846 - accuracy: 0.9743\n",
            "Epoch 77/100\n",
            "268/268 [==============================] - 33s 122ms/step - loss: 0.0814 - accuracy: 0.9754\n",
            "Epoch 78/100\n",
            "268/268 [==============================] - 33s 122ms/step - loss: 0.0876 - accuracy: 0.9734\n",
            "Epoch 79/100\n",
            "268/268 [==============================] - 33s 122ms/step - loss: 0.0942 - accuracy: 0.9721\n",
            "Epoch 80/100\n",
            "268/268 [==============================] - 33s 122ms/step - loss: 0.0991 - accuracy: 0.9701\n",
            "Epoch 81/100\n",
            "268/268 [==============================] - 33s 122ms/step - loss: 0.0989 - accuracy: 0.9698\n",
            "Epoch 82/100\n",
            "268/268 [==============================] - 33s 123ms/step - loss: 0.1182 - accuracy: 0.9651\n",
            "Epoch 83/100\n",
            "268/268 [==============================] - 33s 122ms/step - loss: 0.1107 - accuracy: 0.9665\n",
            "Epoch 84/100\n",
            "268/268 [==============================] - 33s 122ms/step - loss: 0.0928 - accuracy: 0.9719\n",
            "Epoch 85/100\n",
            "268/268 [==============================] - 33s 122ms/step - loss: 0.0817 - accuracy: 0.9754\n",
            "Epoch 86/100\n",
            "268/268 [==============================] - 33s 122ms/step - loss: 0.0693 - accuracy: 0.9775\n",
            "Epoch 87/100\n",
            "268/268 [==============================] - 33s 122ms/step - loss: 0.0630 - accuracy: 0.9793\n",
            "Epoch 88/100\n",
            "268/268 [==============================] - 33s 122ms/step - loss: 0.0651 - accuracy: 0.9796\n",
            "Epoch 89/100\n",
            "268/268 [==============================] - 33s 122ms/step - loss: 0.0666 - accuracy: 0.9795\n",
            "Epoch 90/100\n",
            "268/268 [==============================] - 33s 122ms/step - loss: 0.0642 - accuracy: 0.9788\n",
            "Epoch 91/100\n",
            "268/268 [==============================] - 33s 122ms/step - loss: 0.0939 - accuracy: 0.9728\n",
            "Epoch 92/100\n",
            "268/268 [==============================] - 33s 122ms/step - loss: 0.1036 - accuracy: 0.9664\n",
            "Epoch 93/100\n",
            "268/268 [==============================] - 33s 122ms/step - loss: 0.0837 - accuracy: 0.9718\n",
            "Epoch 94/100\n",
            "268/268 [==============================] - 33s 122ms/step - loss: 0.0965 - accuracy: 0.9699\n",
            "Epoch 95/100\n",
            "268/268 [==============================] - 33s 123ms/step - loss: 0.0902 - accuracy: 0.9722\n",
            "Epoch 96/100\n",
            "268/268 [==============================] - 33s 122ms/step - loss: 0.0777 - accuracy: 0.9744\n",
            "Epoch 97/100\n",
            "268/268 [==============================] - 33s 122ms/step - loss: 0.0690 - accuracy: 0.9776\n",
            "Epoch 98/100\n",
            "268/268 [==============================] - 33s 122ms/step - loss: 0.0843 - accuracy: 0.9737\n",
            "Epoch 99/100\n",
            "268/268 [==============================] - 33s 122ms/step - loss: 0.0874 - accuracy: 0.9719\n",
            "Epoch 100/100\n",
            "268/268 [==============================] - 33s 122ms/step - loss: 0.0707 - accuracy: 0.9767\n"
          ]
        }
      ]
    },
    {
      "cell_type": "code",
      "source": [
        "# Evaluating the model on accuracy\n",
        "import matplotlib.pyplot as plt\n",
        "plt.plot(r.history['accuracy'])"
      ],
      "metadata": {
        "id": "41bQ_zmgrApX",
        "colab": {
          "base_uri": "https://localhost:8080/",
          "height": 448
        },
        "outputId": "44c36ab1-3c27-45b8-890d-1d8174e13081"
      },
      "execution_count": null,
      "outputs": [
        {
          "output_type": "execute_result",
          "data": {
            "text/plain": [
              "[<matplotlib.lines.Line2D at 0x7fc7d55ea290>]"
            ]
          },
          "metadata": {},
          "execution_count": 19
        },
        {
          "output_type": "display_data",
          "data": {
            "text/plain": [
              "<Figure size 640x480 with 1 Axes>"
            ],
            "image/png": "[encoded data removed]"
          },
          "metadata": {}
        }
      ]
    },
    {
      "cell_type": "code",
      "source": [
        "def predict_words(seed, no_words):\n",
        "  for i in range(no_words):\n",
        "    token_list = tokenizer.texts_to_sequences([seed])[0]\n",
        "    token_list = pad_sequences([token_list], maxlen=max_seq_length-1, padding='pre')\n",
        "    predicted = np.argmax(model.predict(token_list), axis=1)\n",
        "\n",
        "    new_word = ''\n",
        "\n",
        "    for word, index in tokenizer.word_index.items():\n",
        "      if predicted == index:\n",
        "        new_word = word\n",
        "        break\n",
        "    seed += \" \" + new_word\n",
        "  print(seed)"
      ],
      "metadata": {
        "id": "aYJPu9mJYg4R"
      },
      "execution_count": null,
      "outputs": []
    },
    {
      "cell_type": "code",
      "source": [
        "seed_text = 'I wish i could kill someone right now '\n",
        "next_words = 10\n",
        "\n",
        "predict_words(seed_text, next_words)"
      ],
      "metadata": {
        "colab": {
          "base_uri": "https://localhost:8080/"
        },
        "id": "_f7otXpmbAE3",
        "outputId": "7fe6009d-7a30-441e-a8b1-5411ebbbf2a1"
      },
      "execution_count": null,
      "outputs": [
        {
          "output_type": "stream",
          "name": "stdout",
          "text": [
            "1/1 [==============================] - 0s 34ms/step\n",
            "1/1 [==============================] - 0s 30ms/step\n",
            "1/1 [==============================] - 0s 32ms/step\n",
            "1/1 [==============================] - 0s 66ms/step\n",
            "1/1 [==============================] - 0s 41ms/step\n",
            "1/1 [==============================] - 0s 51ms/step\n",
            "1/1 [==============================] - 0s 41ms/step\n",
            "1/1 [==============================] - 0s 31ms/step\n",
            "1/1 [==============================] - 0s 33ms/step\n",
            "1/1 [==============================] - 0s 32ms/step\n",
            "I wish i could kill someone right now  norwegians of being funny little guys and their meme template\n"
          ]
        }
      ]
    },
    {
      "cell_type": "code",
      "source": [
        "seed_text = 'what do you know about computers? '\n",
        "next_words = 20\n",
        "\n",
        "predict_words(seed_text, next_words)"
      ],
      "metadata": {
        "colab": {
          "base_uri": "https://localhost:8080/"
        },
        "id": "4f5BBsaFEC7k",
        "outputId": "025cc4e0-eb9d-4dfe-a210-33b06efdbc7f"
      },
      "execution_count": null,
      "outputs": [
        {
          "output_type": "stream",
          "name": "stdout",
          "text": [
            "1/1 [==============================] - 0s 33ms/step\n",
            "1/1 [==============================] - 0s 34ms/step\n",
            "1/1 [==============================] - 0s 33ms/step\n",
            "1/1 [==============================] - 0s 31ms/step\n",
            "1/1 [==============================] - 0s 33ms/step\n",
            "1/1 [==============================] - 0s 32ms/step\n",
            "1/1 [==============================] - 0s 39ms/step\n",
            "1/1 [==============================] - 0s 32ms/step\n",
            "1/1 [==============================] - 0s 33ms/step\n",
            "1/1 [==============================] - 0s 34ms/step\n",
            "1/1 [==============================] - 0s 33ms/step\n",
            "1/1 [==============================] - 0s 31ms/step\n",
            "1/1 [==============================] - 0s 35ms/step\n",
            "1/1 [==============================] - 0s 32ms/step\n",
            "1/1 [==============================] - 0s 31ms/step\n",
            "1/1 [==============================] - 0s 33ms/step\n",
            "1/1 [==============================] - 0s 33ms/step\n",
            "1/1 [==============================] - 0s 34ms/step\n",
            "1/1 [==============================] - 0s 33ms/step\n",
            "1/1 [==============================] - 0s 33ms/step\n",
            "what do you know about computers?  this yeah he has been making live action movies in which they race swap the main character people including myself\n"
          ]
        }
      ]
    },
    {
      "cell_type": "code",
      "source": [
        "seed_text = 'you know what? you dont make sense most of the time '\n",
        "next_words = 20\n",
        "\n",
        "predict_words(seed_text, next_words)"
      ],
      "metadata": {
        "colab": {
          "base_uri": "https://localhost:8080/"
        },
        "id": "pGeWY54gEuMe",
        "outputId": "80ea11d0-7e7d-419a-cd3d-627474bde3e7"
      },
      "execution_count": null,
      "outputs": [
        {
          "output_type": "stream",
          "name": "stdout",
          "text": [
            "1/1 [==============================] - 0s 43ms/step\n",
            "1/1 [==============================] - 0s 42ms/step\n",
            "1/1 [==============================] - 0s 60ms/step\n",
            "1/1 [==============================] - 0s 31ms/step\n",
            "1/1 [==============================] - 0s 33ms/step\n",
            "1/1 [==============================] - 0s 33ms/step\n",
            "1/1 [==============================] - 0s 32ms/step\n",
            "1/1 [==============================] - 0s 32ms/step\n",
            "1/1 [==============================] - 0s 34ms/step\n",
            "1/1 [==============================] - 0s 33ms/step\n",
            "1/1 [==============================] - 0s 30ms/step\n",
            "1/1 [==============================] - 0s 30ms/step\n",
            "1/1 [==============================] - 0s 33ms/step\n",
            "1/1 [==============================] - 0s 33ms/step\n",
            "1/1 [==============================] - 0s 33ms/step\n",
            "1/1 [==============================] - 0s 31ms/step\n",
            "1/1 [==============================] - 0s 31ms/step\n",
            "1/1 [==============================] - 0s 35ms/step\n",
            "1/1 [==============================] - 0s 32ms/step\n",
            "1/1 [==============================] - 0s 32ms/step\n",
            "you know what? you dont make sense most of the time  you dumb fucks know that every american school is different right i learned about everything our government did from manifest\n"
          ]
        }
      ]
    },
    {
      "cell_type": "code",
      "source": [
        "seed_text = 'so what should i do about it? Its useless to talk to you '\n",
        "next_words = 20\n",
        "\n",
        "predict_words(seed_text, next_words)"
      ],
      "metadata": {
        "colab": {
          "base_uri": "https://localhost:8080/"
        },
        "id": "R5YsKJ-iE4T5",
        "outputId": "ec1550ef-57a2-45cd-fd39-efb94292c1ec"
      },
      "execution_count": null,
      "outputs": [
        {
          "output_type": "stream",
          "name": "stdout",
          "text": [
            "1/1 [==============================] - 0s 42ms/step\n",
            "1/1 [==============================] - 0s 42ms/step\n",
            "1/1 [==============================] - 0s 59ms/step\n",
            "1/1 [==============================] - 0s 45ms/step\n",
            "1/1 [==============================] - 0s 31ms/step\n",
            "1/1 [==============================] - 0s 39ms/step\n",
            "1/1 [==============================] - 0s 44ms/step\n",
            "1/1 [==============================] - 0s 42ms/step\n",
            "1/1 [==============================] - 0s 39ms/step\n",
            "1/1 [==============================] - 0s 47ms/step\n",
            "1/1 [==============================] - 0s 39ms/step\n",
            "1/1 [==============================] - 0s 43ms/step\n",
            "1/1 [==============================] - 0s 51ms/step\n",
            "1/1 [==============================] - 0s 43ms/step\n",
            "1/1 [==============================] - 0s 39ms/step\n",
            "1/1 [==============================] - 0s 45ms/step\n",
            "1/1 [==============================] - 0s 39ms/step\n",
            "1/1 [==============================] - 0s 42ms/step\n",
            "1/1 [==============================] - 0s 45ms/step\n",
            "1/1 [==============================] - 0s 38ms/step\n",
            "so what should i do about it? Its useless to talk to you  reddit discord i m not typically bothered either you re farming upvotes their submarine has still have few pc with\n"
          ]
        }
      ]
    },
    {
      "cell_type": "code",
      "source": [
        "seed_text = ' you are such a piece of shit'\n",
        "next_words = 20\n",
        "\n",
        "predict_words(seed_text, next_words)"
      ],
      "metadata": {
        "colab": {
          "base_uri": "https://localhost:8080/"
        },
        "id": "z57WGdPZFOmn",
        "outputId": "4472d296-80f8-4e38-d508-d09e12cc8264"
      },
      "execution_count": null,
      "outputs": [
        {
          "output_type": "stream",
          "name": "stdout",
          "text": [
            "1/1 [==============================] - 0s 32ms/step\n",
            "1/1 [==============================] - 0s 31ms/step\n",
            "1/1 [==============================] - 0s 32ms/step\n",
            "1/1 [==============================] - 0s 31ms/step\n",
            "1/1 [==============================] - 0s 34ms/step\n",
            "1/1 [==============================] - 0s 34ms/step\n",
            "1/1 [==============================] - 0s 32ms/step\n",
            "1/1 [==============================] - 0s 32ms/step\n",
            "1/1 [==============================] - 0s 44ms/step\n",
            "1/1 [==============================] - 0s 40ms/step\n",
            "1/1 [==============================] - 0s 40ms/step\n",
            "1/1 [==============================] - 0s 44ms/step\n",
            "1/1 [==============================] - 0s 55ms/step\n",
            "1/1 [==============================] - 0s 49ms/step\n",
            "1/1 [==============================] - 0s 42ms/step\n",
            "1/1 [==============================] - 0s 40ms/step\n",
            "1/1 [==============================] - 0s 39ms/step\n",
            "1/1 [==============================] - 0s 39ms/step\n",
            "1/1 [==============================] - 0s 41ms/step\n",
            "1/1 [==============================] - 0s 38ms/step\n",
            " you are such a piece of shit it was too late right it s not like it does anything tho even if they took it away it\n"
          ]
        }
      ]
    },
    {
      "cell_type": "code",
      "source": [
        "# model.save('chad_generator.h5')"
      ],
      "metadata": {
        "id": "Dm1_5pytbCf_"
      },
      "execution_count": null,
      "outputs": []
    },
    {
      "cell_type": "code",
      "source": [],
      "metadata": {
        "id": "h0TBJO3kwx60"
      },
      "execution_count": null,
      "outputs": []
    }
  ]
}